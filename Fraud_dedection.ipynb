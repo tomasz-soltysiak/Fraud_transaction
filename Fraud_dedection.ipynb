{
  "nbformat": 4,
  "nbformat_minor": 0,
  "metadata": {
    "colab": {
      "name": "Fraud_dedection.ipynb",
      "provenance": [],
      "include_colab_link": true
    },
    "kernelspec": {
      "name": "python3",
      "display_name": "Python 3"
    }
  },
  "cells": [
    {
      "cell_type": "markdown",
      "metadata": {
        "id": "view-in-github",
        "colab_type": "text"
      },
      "source": [
        "<a href=\"https://colab.research.google.com/github/tomasz-soltysiak/Fraud_transaction/blob/tomaszscript/Fraud_dedection.ipynb\" target=\"_parent\"><img src=\"https://colab.research.google.com/assets/colab-badge.svg\" alt=\"Open In Colab\"/></a>"
      ]
    },
    {
      "cell_type": "code",
      "metadata": {
        "id": "G76CWpZzuWhu",
        "colab_type": "code",
        "colab": {}
      },
      "source": [
        "import matplotlib.patches as mpatches\n",
        "import pandas as pd\n",
        "import matplotlib.pyplot as plt\n",
        "import seaborn as sns\n",
        "import numpy as np\n",
        "from sklearn.preprocessing import RobustScaler, StandardScaler\n",
        "from sklearn.model_selection import train_test_split,StratifiedKFold\n",
        "from sklearn.manifold import TSNE\n",
        "from sklearn.cluster import KMeans\n",
        "from sklearn.decomposition import PCA\n",
        "from sklearn.linear_model import LogisticRegression\n",
        "from sklearn.model_selection import cross_val_score\n",
        "from sklearn.metrics import recall_score, precision_score, f1_score, accuracy_score,roc_curve,confusion_matrix,roc_auc_score\n",
        "from sklearn.ensemble import RandomForestClassifier\n",
        "from sklearn.neighbors import KNeighborsClassifier\n",
        "from sklearn.svm import SVC\n",
        "from keras.layers import Dense\n",
        "from keras.layers import Dropout\n",
        "from xgboost import XGBClassifier\n",
        "from keras.models import Sequential\n",
        "from keras.callbacks import EarlyStopping\n",
        "from keras.layers import Dense\n",
        "from keras.layers import Dropout\n",
        "from keras.callbacks import EarlyStopping\n",
        "#from keras.metrics import precision, binary_recall, f1_score\n",
        "\n",
        "\n"
      ],
      "execution_count": 0,
      "outputs": []
    },
    {
      "cell_type": "code",
      "metadata": {
        "id": "5EcDK9tkXMnw",
        "colab_type": "code",
        "outputId": "27c4038e-3df5-4347-c7d4-7d57e0939d69",
        "colab": {
          "base_uri": "https://localhost:8080/",
          "height": 121
        }
      },
      "source": [
        "from google.colab import drive\n",
        "drive.mount('/content/drive')"
      ],
      "execution_count": 3,
      "outputs": [
        {
          "output_type": "stream",
          "text": [
            "Go to this URL in a browser: https://accounts.google.com/o/oauth2/auth?client_id=947318989803-6bn6qk8qdgf4n4g3pfee6491hc0brc4i.apps.googleusercontent.com&redirect_uri=urn%3aietf%3awg%3aoauth%3a2.0%3aoob&response_type=code&scope=email%20https%3a%2f%2fwww.googleapis.com%2fauth%2fdocs.test%20https%3a%2f%2fwww.googleapis.com%2fauth%2fdrive%20https%3a%2f%2fwww.googleapis.com%2fauth%2fdrive.photos.readonly%20https%3a%2f%2fwww.googleapis.com%2fauth%2fpeopleapi.readonly\n",
            "\n",
            "Enter your authorization code:\n",
            "··········\n",
            "Mounted at /content/drive\n"
          ],
          "name": "stdout"
        }
      ]
    },
    {
      "cell_type": "markdown",
      "metadata": {
        "id": "90xbXAp08Qb2",
        "colab_type": "text"
      },
      "source": [
        "After adding libraries, I upload data."
      ]
    },
    {
      "cell_type": "code",
      "metadata": {
        "id": "CvdgXIvk8gLT",
        "colab_type": "code",
        "outputId": "5afe3076-a699-49c5-c83c-d44c2e3c9016",
        "colab": {
          "base_uri": "https://localhost:8080/",
          "height": 215
        }
      },
      "source": [
        "df=pd.read_csv('/content/drive/My Drive/Colab Notebooks/data.csv')\n",
        "df.head()\n",
        "\n"
      ],
      "execution_count": 4,
      "outputs": [
        {
          "output_type": "execute_result",
          "data": {
            "text/html": [
              "<div>\n",
              "<style scoped>\n",
              "    .dataframe tbody tr th:only-of-type {\n",
              "        vertical-align: middle;\n",
              "    }\n",
              "\n",
              "    .dataframe tbody tr th {\n",
              "        vertical-align: top;\n",
              "    }\n",
              "\n",
              "    .dataframe thead th {\n",
              "        text-align: right;\n",
              "    }\n",
              "</style>\n",
              "<table border=\"1\" class=\"dataframe\">\n",
              "  <thead>\n",
              "    <tr style=\"text-align: right;\">\n",
              "      <th></th>\n",
              "      <th>Time</th>\n",
              "      <th>V1</th>\n",
              "      <th>V2</th>\n",
              "      <th>V3</th>\n",
              "      <th>V4</th>\n",
              "      <th>V5</th>\n",
              "      <th>V6</th>\n",
              "      <th>V7</th>\n",
              "      <th>V8</th>\n",
              "      <th>V9</th>\n",
              "      <th>V10</th>\n",
              "      <th>V11</th>\n",
              "      <th>V12</th>\n",
              "      <th>V13</th>\n",
              "      <th>V14</th>\n",
              "      <th>V15</th>\n",
              "      <th>V16</th>\n",
              "      <th>V17</th>\n",
              "      <th>V18</th>\n",
              "      <th>V19</th>\n",
              "      <th>V20</th>\n",
              "      <th>V21</th>\n",
              "      <th>V22</th>\n",
              "      <th>V23</th>\n",
              "      <th>V24</th>\n",
              "      <th>V25</th>\n",
              "      <th>V26</th>\n",
              "      <th>V27</th>\n",
              "      <th>V28</th>\n",
              "      <th>Amount</th>\n",
              "      <th>Class</th>\n",
              "    </tr>\n",
              "  </thead>\n",
              "  <tbody>\n",
              "    <tr>\n",
              "      <th>0</th>\n",
              "      <td>127614.0</td>\n",
              "      <td>2.004188</td>\n",
              "      <td>-0.287498</td>\n",
              "      <td>-1.984934</td>\n",
              "      <td>0.342239</td>\n",
              "      <td>0.413188</td>\n",
              "      <td>-0.815346</td>\n",
              "      <td>0.445456</td>\n",
              "      <td>-0.299258</td>\n",
              "      <td>0.562445</td>\n",
              "      <td>0.109932</td>\n",
              "      <td>-1.381862</td>\n",
              "      <td>-0.428037</td>\n",
              "      <td>-1.230877</td>\n",
              "      <td>0.629739</td>\n",
              "      <td>-0.242149</td>\n",
              "      <td>-0.388169</td>\n",
              "      <td>-0.137390</td>\n",
              "      <td>-0.552790</td>\n",
              "      <td>0.315548</td>\n",
              "      <td>-0.152272</td>\n",
              "      <td>-0.038661</td>\n",
              "      <td>-0.127194</td>\n",
              "      <td>0.036464</td>\n",
              "      <td>0.504076</td>\n",
              "      <td>0.176423</td>\n",
              "      <td>0.541252</td>\n",
              "      <td>-0.121212</td>\n",
              "      <td>-0.064948</td>\n",
              "      <td>64.99</td>\n",
              "      <td>0</td>\n",
              "    </tr>\n",
              "    <tr>\n",
              "      <th>1</th>\n",
              "      <td>139389.0</td>\n",
              "      <td>2.346905</td>\n",
              "      <td>-1.264915</td>\n",
              "      <td>-1.034900</td>\n",
              "      <td>-1.568721</td>\n",
              "      <td>-1.122435</td>\n",
              "      <td>-0.790624</td>\n",
              "      <td>-1.011732</td>\n",
              "      <td>-0.268243</td>\n",
              "      <td>-1.229191</td>\n",
              "      <td>1.576645</td>\n",
              "      <td>-1.286030</td>\n",
              "      <td>-0.816409</td>\n",
              "      <td>0.603102</td>\n",
              "      <td>-0.437890</td>\n",
              "      <td>-0.164642</td>\n",
              "      <td>-0.582255</td>\n",
              "      <td>0.427399</td>\n",
              "      <td>-0.134499</td>\n",
              "      <td>-0.049048</td>\n",
              "      <td>-0.460329</td>\n",
              "      <td>-0.196288</td>\n",
              "      <td>0.015015</td>\n",
              "      <td>0.197023</td>\n",
              "      <td>-0.432445</td>\n",
              "      <td>-0.119139</td>\n",
              "      <td>-0.131627</td>\n",
              "      <td>0.015176</td>\n",
              "      <td>-0.058104</td>\n",
              "      <td>1.00</td>\n",
              "      <td>0</td>\n",
              "    </tr>\n",
              "    <tr>\n",
              "      <th>2</th>\n",
              "      <td>68482.0</td>\n",
              "      <td>-3.089671</td>\n",
              "      <td>2.464689</td>\n",
              "      <td>0.042745</td>\n",
              "      <td>1.670674</td>\n",
              "      <td>-2.129076</td>\n",
              "      <td>0.600262</td>\n",
              "      <td>-1.627286</td>\n",
              "      <td>2.452801</td>\n",
              "      <td>0.319063</td>\n",
              "      <td>-0.526330</td>\n",
              "      <td>-1.681347</td>\n",
              "      <td>1.951140</td>\n",
              "      <td>1.001432</td>\n",
              "      <td>0.346440</td>\n",
              "      <td>-1.625289</td>\n",
              "      <td>-1.128464</td>\n",
              "      <td>1.888585</td>\n",
              "      <td>-1.045530</td>\n",
              "      <td>1.149073</td>\n",
              "      <td>-0.060298</td>\n",
              "      <td>-0.223384</td>\n",
              "      <td>-0.441265</td>\n",
              "      <td>0.250283</td>\n",
              "      <td>0.091483</td>\n",
              "      <td>-0.038373</td>\n",
              "      <td>-0.410096</td>\n",
              "      <td>0.088944</td>\n",
              "      <td>0.026973</td>\n",
              "      <td>30.70</td>\n",
              "      <td>0</td>\n",
              "    </tr>\n",
              "    <tr>\n",
              "      <th>3</th>\n",
              "      <td>123677.0</td>\n",
              "      <td>1.792358</td>\n",
              "      <td>-0.384458</td>\n",
              "      <td>-2.170063</td>\n",
              "      <td>0.096243</td>\n",
              "      <td>0.291162</td>\n",
              "      <td>-1.510182</td>\n",
              "      <td>0.921037</td>\n",
              "      <td>-0.525263</td>\n",
              "      <td>-0.088484</td>\n",
              "      <td>0.119203</td>\n",
              "      <td>1.171025</td>\n",
              "      <td>1.013250</td>\n",
              "      <td>-0.123025</td>\n",
              "      <td>1.041171</td>\n",
              "      <td>-0.323426</td>\n",
              "      <td>-0.460035</td>\n",
              "      <td>-0.465857</td>\n",
              "      <td>-0.061338</td>\n",
              "      <td>0.309959</td>\n",
              "      <td>0.072457</td>\n",
              "      <td>0.297749</td>\n",
              "      <td>0.633531</td>\n",
              "      <td>-0.176001</td>\n",
              "      <td>0.146116</td>\n",
              "      <td>0.342753</td>\n",
              "      <td>0.198887</td>\n",
              "      <td>-0.117734</td>\n",
              "      <td>-0.061706</td>\n",
              "      <td>154.09</td>\n",
              "      <td>0</td>\n",
              "    </tr>\n",
              "    <tr>\n",
              "      <th>4</th>\n",
              "      <td>121222.0</td>\n",
              "      <td>2.188008</td>\n",
              "      <td>-0.400212</td>\n",
              "      <td>-1.627908</td>\n",
              "      <td>-0.225692</td>\n",
              "      <td>-0.133549</td>\n",
              "      <td>-1.273351</td>\n",
              "      <td>0.226144</td>\n",
              "      <td>-0.553975</td>\n",
              "      <td>-0.908684</td>\n",
              "      <td>0.877520</td>\n",
              "      <td>-0.845913</td>\n",
              "      <td>0.763512</td>\n",
              "      <td>1.478457</td>\n",
              "      <td>0.027869</td>\n",
              "      <td>-0.734253</td>\n",
              "      <td>-2.244708</td>\n",
              "      <td>0.184697</td>\n",
              "      <td>0.251184</td>\n",
              "      <td>-0.646467</td>\n",
              "      <td>-0.558023</td>\n",
              "      <td>-0.338599</td>\n",
              "      <td>-0.220436</td>\n",
              "      <td>0.112804</td>\n",
              "      <td>0.049313</td>\n",
              "      <td>0.157236</td>\n",
              "      <td>0.606729</td>\n",
              "      <td>-0.063450</td>\n",
              "      <td>-0.071105</td>\n",
              "      <td>10.00</td>\n",
              "      <td>0</td>\n",
              "    </tr>\n",
              "  </tbody>\n",
              "</table>\n",
              "</div>"
            ],
            "text/plain": [
              "       Time        V1        V2        V3  ...       V27       V28  Amount  Class\n",
              "0  127614.0  2.004188 -0.287498 -1.984934  ... -0.121212 -0.064948   64.99      0\n",
              "1  139389.0  2.346905 -1.264915 -1.034900  ...  0.015176 -0.058104    1.00      0\n",
              "2   68482.0 -3.089671  2.464689  0.042745  ...  0.088944  0.026973   30.70      0\n",
              "3  123677.0  1.792358 -0.384458 -2.170063  ... -0.117734 -0.061706  154.09      0\n",
              "4  121222.0  2.188008 -0.400212 -1.627908  ... -0.063450 -0.071105   10.00      0\n",
              "\n",
              "[5 rows x 31 columns]"
            ]
          },
          "metadata": {
            "tags": []
          },
          "execution_count": 4
        }
      ]
    },
    {
      "cell_type": "code",
      "metadata": {
        "id": "SXmQmRh3vGS2",
        "colab_type": "code",
        "outputId": "bece258f-7b75-44a3-9df4-dabcf187a2a6",
        "colab": {
          "base_uri": "https://localhost:8080/",
          "height": 909
        }
      },
      "source": [
        "df.info()\n",
        "df.describe()\n",
        "\n"
      ],
      "execution_count": 0,
      "outputs": [
        {
          "output_type": "stream",
          "text": [
            "<class 'pandas.core.frame.DataFrame'>\n",
            "RangeIndex: 213605 entries, 0 to 213604\n",
            "Data columns (total 31 columns):\n",
            "Time      213605 non-null float64\n",
            "V1        213605 non-null float64\n",
            "V2        213605 non-null float64\n",
            "V3        213605 non-null float64\n",
            "V4        213605 non-null float64\n",
            "V5        213605 non-null float64\n",
            "V6        213605 non-null float64\n",
            "V7        213605 non-null float64\n",
            "V8        213605 non-null float64\n",
            "V9        213605 non-null float64\n",
            "V10       213605 non-null float64\n",
            "V11       213605 non-null float64\n",
            "V12       213605 non-null float64\n",
            "V13       213605 non-null float64\n",
            "V14       213605 non-null float64\n",
            "V15       213605 non-null float64\n",
            "V16       213605 non-null float64\n",
            "V17       213605 non-null float64\n",
            "V18       213605 non-null float64\n",
            "V19       213605 non-null float64\n",
            "V20       213605 non-null float64\n",
            "V21       213605 non-null float64\n",
            "V22       213605 non-null float64\n",
            "V23       213605 non-null float64\n",
            "V24       213605 non-null float64\n",
            "V25       213605 non-null float64\n",
            "V26       213605 non-null float64\n",
            "V27       213605 non-null float64\n",
            "V28       213605 non-null float64\n",
            "Amount    213605 non-null float64\n",
            "Class     213605 non-null int64\n",
            "dtypes: float64(30), int64(1)\n",
            "memory usage: 50.5 MB\n"
          ],
          "name": "stdout"
        },
        {
          "output_type": "execute_result",
          "data": {
            "text/html": [
              "<div>\n",
              "<style scoped>\n",
              "    .dataframe tbody tr th:only-of-type {\n",
              "        vertical-align: middle;\n",
              "    }\n",
              "\n",
              "    .dataframe tbody tr th {\n",
              "        vertical-align: top;\n",
              "    }\n",
              "\n",
              "    .dataframe thead th {\n",
              "        text-align: right;\n",
              "    }\n",
              "</style>\n",
              "<table border=\"1\" class=\"dataframe\">\n",
              "  <thead>\n",
              "    <tr style=\"text-align: right;\">\n",
              "      <th></th>\n",
              "      <th>Time</th>\n",
              "      <th>V1</th>\n",
              "      <th>V2</th>\n",
              "      <th>V3</th>\n",
              "      <th>V4</th>\n",
              "      <th>V5</th>\n",
              "      <th>V6</th>\n",
              "      <th>V7</th>\n",
              "      <th>V8</th>\n",
              "      <th>V9</th>\n",
              "      <th>V10</th>\n",
              "      <th>V11</th>\n",
              "      <th>V12</th>\n",
              "      <th>V13</th>\n",
              "      <th>V14</th>\n",
              "      <th>V15</th>\n",
              "      <th>V16</th>\n",
              "      <th>V17</th>\n",
              "      <th>V18</th>\n",
              "      <th>V19</th>\n",
              "      <th>V20</th>\n",
              "      <th>V21</th>\n",
              "      <th>V22</th>\n",
              "      <th>V23</th>\n",
              "      <th>V24</th>\n",
              "      <th>V25</th>\n",
              "      <th>V26</th>\n",
              "      <th>V27</th>\n",
              "      <th>V28</th>\n",
              "      <th>Amount</th>\n",
              "      <th>Class</th>\n",
              "    </tr>\n",
              "  </thead>\n",
              "  <tbody>\n",
              "    <tr>\n",
              "      <th>count</th>\n",
              "      <td>213605.000000</td>\n",
              "      <td>213605.000000</td>\n",
              "      <td>213605.000000</td>\n",
              "      <td>213605.000000</td>\n",
              "      <td>213605.000000</td>\n",
              "      <td>213605.000000</td>\n",
              "      <td>213605.000000</td>\n",
              "      <td>213605.000000</td>\n",
              "      <td>213605.000000</td>\n",
              "      <td>213605.000000</td>\n",
              "      <td>213605.000000</td>\n",
              "      <td>213605.000000</td>\n",
              "      <td>213605.000000</td>\n",
              "      <td>213605.000000</td>\n",
              "      <td>213605.000000</td>\n",
              "      <td>213605.000000</td>\n",
              "      <td>213605.000000</td>\n",
              "      <td>213605.000000</td>\n",
              "      <td>213605.000000</td>\n",
              "      <td>213605.000000</td>\n",
              "      <td>213605.000000</td>\n",
              "      <td>213605.000000</td>\n",
              "      <td>213605.000000</td>\n",
              "      <td>213605.000000</td>\n",
              "      <td>213605.000000</td>\n",
              "      <td>213605.000000</td>\n",
              "      <td>213605.000000</td>\n",
              "      <td>213605.000000</td>\n",
              "      <td>213605.000000</td>\n",
              "      <td>213605.000000</td>\n",
              "      <td>213605.000000</td>\n",
              "    </tr>\n",
              "    <tr>\n",
              "      <th>mean</th>\n",
              "      <td>94763.710592</td>\n",
              "      <td>0.000761</td>\n",
              "      <td>-0.000864</td>\n",
              "      <td>-0.000395</td>\n",
              "      <td>-0.000124</td>\n",
              "      <td>0.000037</td>\n",
              "      <td>-0.001235</td>\n",
              "      <td>-0.000793</td>\n",
              "      <td>0.000741</td>\n",
              "      <td>0.002086</td>\n",
              "      <td>-0.002382</td>\n",
              "      <td>0.000110</td>\n",
              "      <td>-0.000659</td>\n",
              "      <td>-0.000949</td>\n",
              "      <td>0.000634</td>\n",
              "      <td>0.000574</td>\n",
              "      <td>0.000392</td>\n",
              "      <td>0.001007</td>\n",
              "      <td>0.000294</td>\n",
              "      <td>-0.000233</td>\n",
              "      <td>0.000381</td>\n",
              "      <td>0.000008</td>\n",
              "      <td>0.000888</td>\n",
              "      <td>-0.000716</td>\n",
              "      <td>-0.000077</td>\n",
              "      <td>0.000786</td>\n",
              "      <td>0.000293</td>\n",
              "      <td>-0.000320</td>\n",
              "      <td>-0.000183</td>\n",
              "      <td>88.408696</td>\n",
              "      <td>0.001727</td>\n",
              "    </tr>\n",
              "    <tr>\n",
              "      <th>std</th>\n",
              "      <td>47521.370536</td>\n",
              "      <td>1.959843</td>\n",
              "      <td>1.656822</td>\n",
              "      <td>1.514786</td>\n",
              "      <td>1.412014</td>\n",
              "      <td>1.367172</td>\n",
              "      <td>1.324434</td>\n",
              "      <td>1.218273</td>\n",
              "      <td>1.194886</td>\n",
              "      <td>1.098027</td>\n",
              "      <td>1.087479</td>\n",
              "      <td>1.020825</td>\n",
              "      <td>0.998508</td>\n",
              "      <td>0.995958</td>\n",
              "      <td>0.958802</td>\n",
              "      <td>0.914407</td>\n",
              "      <td>0.874088</td>\n",
              "      <td>0.849561</td>\n",
              "      <td>0.837742</td>\n",
              "      <td>0.813287</td>\n",
              "      <td>0.765076</td>\n",
              "      <td>0.729790</td>\n",
              "      <td>0.726021</td>\n",
              "      <td>0.632531</td>\n",
              "      <td>0.605641</td>\n",
              "      <td>0.522326</td>\n",
              "      <td>0.482457</td>\n",
              "      <td>0.401070</td>\n",
              "      <td>0.328280</td>\n",
              "      <td>248.726927</td>\n",
              "      <td>0.041527</td>\n",
              "    </tr>\n",
              "    <tr>\n",
              "      <th>min</th>\n",
              "      <td>0.000000</td>\n",
              "      <td>-56.407510</td>\n",
              "      <td>-72.715728</td>\n",
              "      <td>-33.680984</td>\n",
              "      <td>-5.683171</td>\n",
              "      <td>-42.147898</td>\n",
              "      <td>-26.160506</td>\n",
              "      <td>-43.557242</td>\n",
              "      <td>-50.943369</td>\n",
              "      <td>-13.434066</td>\n",
              "      <td>-24.588262</td>\n",
              "      <td>-4.797473</td>\n",
              "      <td>-18.553697</td>\n",
              "      <td>-4.008640</td>\n",
              "      <td>-19.214325</td>\n",
              "      <td>-4.498945</td>\n",
              "      <td>-13.563273</td>\n",
              "      <td>-25.162799</td>\n",
              "      <td>-9.335193</td>\n",
              "      <td>-7.213527</td>\n",
              "      <td>-23.646890</td>\n",
              "      <td>-22.889347</td>\n",
              "      <td>-10.933144</td>\n",
              "      <td>-44.807735</td>\n",
              "      <td>-2.836627</td>\n",
              "      <td>-10.295397</td>\n",
              "      <td>-2.604551</td>\n",
              "      <td>-22.565679</td>\n",
              "      <td>-11.710896</td>\n",
              "      <td>0.000000</td>\n",
              "      <td>0.000000</td>\n",
              "    </tr>\n",
              "    <tr>\n",
              "      <th>25%</th>\n",
              "      <td>54113.000000</td>\n",
              "      <td>-0.919923</td>\n",
              "      <td>-0.597928</td>\n",
              "      <td>-0.891674</td>\n",
              "      <td>-0.845828</td>\n",
              "      <td>-0.693702</td>\n",
              "      <td>-0.768408</td>\n",
              "      <td>-0.555589</td>\n",
              "      <td>-0.208845</td>\n",
              "      <td>-0.639825</td>\n",
              "      <td>-0.535966</td>\n",
              "      <td>-0.763252</td>\n",
              "      <td>-0.405836</td>\n",
              "      <td>-0.649770</td>\n",
              "      <td>-0.426259</td>\n",
              "      <td>-0.579815</td>\n",
              "      <td>-0.466294</td>\n",
              "      <td>-0.483418</td>\n",
              "      <td>-0.498483</td>\n",
              "      <td>-0.456560</td>\n",
              "      <td>-0.211881</td>\n",
              "      <td>-0.228160</td>\n",
              "      <td>-0.541214</td>\n",
              "      <td>-0.161916</td>\n",
              "      <td>-0.353719</td>\n",
              "      <td>-0.316995</td>\n",
              "      <td>-0.327013</td>\n",
              "      <td>-0.070970</td>\n",
              "      <td>-0.052880</td>\n",
              "      <td>5.580000</td>\n",
              "      <td>0.000000</td>\n",
              "    </tr>\n",
              "    <tr>\n",
              "      <th>50%</th>\n",
              "      <td>84629.000000</td>\n",
              "      <td>0.019950</td>\n",
              "      <td>0.065295</td>\n",
              "      <td>0.180284</td>\n",
              "      <td>-0.018836</td>\n",
              "      <td>-0.055078</td>\n",
              "      <td>-0.274951</td>\n",
              "      <td>0.040626</td>\n",
              "      <td>0.022431</td>\n",
              "      <td>-0.048788</td>\n",
              "      <td>-0.094571</td>\n",
              "      <td>-0.032840</td>\n",
              "      <td>0.139530</td>\n",
              "      <td>-0.014834</td>\n",
              "      <td>0.050698</td>\n",
              "      <td>0.048705</td>\n",
              "      <td>0.068072</td>\n",
              "      <td>-0.064990</td>\n",
              "      <td>-0.003878</td>\n",
              "      <td>0.003635</td>\n",
              "      <td>-0.063053</td>\n",
              "      <td>-0.029198</td>\n",
              "      <td>0.007580</td>\n",
              "      <td>-0.011943</td>\n",
              "      <td>0.041112</td>\n",
              "      <td>0.017457</td>\n",
              "      <td>-0.052342</td>\n",
              "      <td>0.001158</td>\n",
              "      <td>0.011244</td>\n",
              "      <td>22.000000</td>\n",
              "      <td>0.000000</td>\n",
              "    </tr>\n",
              "    <tr>\n",
              "      <th>75%</th>\n",
              "      <td>139282.000000</td>\n",
              "      <td>1.315599</td>\n",
              "      <td>0.803606</td>\n",
              "      <td>1.028480</td>\n",
              "      <td>0.743107</td>\n",
              "      <td>0.611668</td>\n",
              "      <td>0.398198</td>\n",
              "      <td>0.569214</td>\n",
              "      <td>0.327296</td>\n",
              "      <td>0.599340</td>\n",
              "      <td>0.449416</td>\n",
              "      <td>0.739790</td>\n",
              "      <td>0.617635</td>\n",
              "      <td>0.662074</td>\n",
              "      <td>0.493322</td>\n",
              "      <td>0.650082</td>\n",
              "      <td>0.522930</td>\n",
              "      <td>0.399906</td>\n",
              "      <td>0.500882</td>\n",
              "      <td>0.457928</td>\n",
              "      <td>0.131932</td>\n",
              "      <td>0.186690</td>\n",
              "      <td>0.527844</td>\n",
              "      <td>0.146825</td>\n",
              "      <td>0.439075</td>\n",
              "      <td>0.352142</td>\n",
              "      <td>0.241358</td>\n",
              "      <td>0.090808</td>\n",
              "      <td>0.078129</td>\n",
              "      <td>77.010000</td>\n",
              "      <td>0.000000</td>\n",
              "    </tr>\n",
              "    <tr>\n",
              "      <th>max</th>\n",
              "      <td>172792.000000</td>\n",
              "      <td>2.451888</td>\n",
              "      <td>22.057729</td>\n",
              "      <td>9.382558</td>\n",
              "      <td>16.875344</td>\n",
              "      <td>34.801666</td>\n",
              "      <td>23.917837</td>\n",
              "      <td>44.054461</td>\n",
              "      <td>19.587773</td>\n",
              "      <td>15.594995</td>\n",
              "      <td>23.745136</td>\n",
              "      <td>12.018913</td>\n",
              "      <td>4.846452</td>\n",
              "      <td>4.569009</td>\n",
              "      <td>7.754599</td>\n",
              "      <td>5.825654</td>\n",
              "      <td>7.059132</td>\n",
              "      <td>9.207059</td>\n",
              "      <td>5.041069</td>\n",
              "      <td>5.591971</td>\n",
              "      <td>39.420904</td>\n",
              "      <td>27.202839</td>\n",
              "      <td>8.361985</td>\n",
              "      <td>20.803344</td>\n",
              "      <td>4.016342</td>\n",
              "      <td>7.519589</td>\n",
              "      <td>3.517346</td>\n",
              "      <td>12.152401</td>\n",
              "      <td>33.847808</td>\n",
              "      <td>19656.530000</td>\n",
              "      <td>1.000000</td>\n",
              "    </tr>\n",
              "  </tbody>\n",
              "</table>\n",
              "</div>"
            ],
            "text/plain": [
              "                Time             V1  ...         Amount          Class\n",
              "count  213605.000000  213605.000000  ...  213605.000000  213605.000000\n",
              "mean    94763.710592       0.000761  ...      88.408696       0.001727\n",
              "std     47521.370536       1.959843  ...     248.726927       0.041527\n",
              "min         0.000000     -56.407510  ...       0.000000       0.000000\n",
              "25%     54113.000000      -0.919923  ...       5.580000       0.000000\n",
              "50%     84629.000000       0.019950  ...      22.000000       0.000000\n",
              "75%    139282.000000       1.315599  ...      77.010000       0.000000\n",
              "max    172792.000000       2.451888  ...   19656.530000       1.000000\n",
              "\n",
              "[8 rows x 31 columns]"
            ]
          },
          "metadata": {
            "tags": []
          },
          "execution_count": 4
        }
      ]
    },
    {
      "cell_type": "code",
      "metadata": {
        "id": "B6mq03sf3X8v",
        "colab_type": "code",
        "outputId": "e7a6b66f-0605-45a4-86a8-e835bd036576",
        "colab": {
          "base_uri": "https://localhost:8080/",
          "height": 554
        }
      },
      "source": [
        "df=df.dropna(axis=0)\n",
        "df.isnull().sum(axis=0)"
      ],
      "execution_count": 6,
      "outputs": [
        {
          "output_type": "execute_result",
          "data": {
            "text/plain": [
              "Time      0\n",
              "V1        0\n",
              "V2        0\n",
              "V3        0\n",
              "V4        0\n",
              "V5        0\n",
              "V6        0\n",
              "V7        0\n",
              "V8        0\n",
              "V9        0\n",
              "V10       0\n",
              "V11       0\n",
              "V12       0\n",
              "V13       0\n",
              "V14       0\n",
              "V15       0\n",
              "V16       0\n",
              "V17       0\n",
              "V18       0\n",
              "V19       0\n",
              "V20       0\n",
              "V21       0\n",
              "V22       0\n",
              "V23       0\n",
              "V24       0\n",
              "V25       0\n",
              "V26       0\n",
              "V27       0\n",
              "V28       0\n",
              "Amount    0\n",
              "Class     0\n",
              "dtype: int64"
            ]
          },
          "metadata": {
            "tags": []
          },
          "execution_count": 6
        }
      ]
    },
    {
      "cell_type": "code",
      "metadata": {
        "id": "LxBXpXjx_Tgk",
        "colab_type": "code",
        "outputId": "d42a2d18-1085-4c68-8686-fc825a4c5fe9",
        "colab": {
          "base_uri": "https://localhost:8080/",
          "height": 296
        }
      },
      "source": [
        "sns.countplot(df['Class'])\n"
      ],
      "execution_count": 0,
      "outputs": [
        {
          "output_type": "execute_result",
          "data": {
            "text/plain": [
              "<matplotlib.axes._subplots.AxesSubplot at 0x7f41558ddf98>"
            ]
          },
          "metadata": {
            "tags": []
          },
          "execution_count": 6
        },
        {
          "output_type": "display_data",
          "data": {
            "image/png": "[encoded data removed]",
            "text/plain": [
              "<Figure size 432x288 with 1 Axes>"
            ]
          },
          "metadata": {
            "tags": []
          }
        }
      ]
    },
    {
      "cell_type": "code",
      "metadata": {
        "id": "YpksXDaBEHKy",
        "colab_type": "code",
        "outputId": "3e0399d3-470e-4b5d-97f2-55de77c805f9",
        "colab": {
          "base_uri": "https://localhost:8080/",
          "height": 1000
        }
      },
      "source": [
        "\n",
        "df.hist(bins=50,figsize=(20,25))\n",
        "\n",
        "plt.show()"
      ],
      "execution_count": 0,
      "outputs": [
        {
          "output_type": "display_data",
          "data": {
            "image/png": "[encoded data removed]",
            "text/plain": [
              "<Figure size 1440x1800 with 36 Axes>"
            ]
          },
          "metadata": {
            "tags": []
          }
        }
      ]
    },
    {
      "cell_type": "code",
      "metadata": {
        "id": "ukGZLp1DRr3L",
        "colab_type": "code",
        "outputId": "4e8cf77d-2821-4f49-cd17-1e082ad7ffd4",
        "colab": {
          "base_uri": "https://localhost:8080/",
          "height": 558
        }
      },
      "source": [
        "plt.figure()\n",
        "sns.distplot(df['Time'])\n",
        "plt.figure()\n",
        "sns.distplot(df['Amount'])\n"
      ],
      "execution_count": 0,
      "outputs": [
        {
          "output_type": "execute_result",
          "data": {
            "text/plain": [
              "<matplotlib.axes._subplots.AxesSubplot at 0x7f825e5eb390>"
            ]
          },
          "metadata": {
            "tags": []
          },
          "execution_count": 11
        },
        {
          "output_type": "display_data",
          "data": {
            "image/png": "[encoded data removed]",
            "text/plain": [
              "<Figure size 432x288 with 1 Axes>"
            ]
          },
          "metadata": {
            "tags": []
          }
        },
        {
          "output_type": "display_data",
          "data": {
            "image/png": "[encoded data removed]",
            "text/plain": [
              "<Figure size 432x288 with 1 Axes>"
            ]
          },
          "metadata": {
            "tags": []
          }
        }
      ]
    },
    {
      "cell_type": "code",
      "metadata": {
        "id": "WKNvyiiZZMlN",
        "colab_type": "code",
        "outputId": "eac58817-cef6-4949-f1bd-73e1173b5986",
        "colab": {
          "base_uri": "https://localhost:8080/",
          "height": 296
        }
      },
      "source": [
        "df['scaled_time']=round((df['Time']/3600)%24)\n",
        "df.head()\n",
        "df_fraud=df[df['Class']==1]\n",
        "df_nofraud=df[df['Class']==0]\n",
        "sns.distplot(df_fraud['Time'])\n",
        "sns.distplot(df_nofraud['Time'])\n",
        "plt.legend(labels=['Fraud','No fraud'])"
      ],
      "execution_count": 0,
      "outputs": [
        {
          "output_type": "execute_result",
          "data": {
            "text/plain": [
              "<matplotlib.legend.Legend at 0x7f0f3661f828>"
            ]
          },
          "metadata": {
            "tags": []
          },
          "execution_count": 5
        },
        {
          "output_type": "display_data",
          "data": {
            "image/png": "[encoded data removed]",
            "text/plain": [
              "<Figure size 432x288 with 1 Axes>"
            ]
          },
          "metadata": {
            "tags": []
          }
        }
      ]
    },
    {
      "cell_type": "code",
      "metadata": {
        "id": "aJM2bry9371i",
        "colab_type": "code",
        "outputId": "7e49cf5c-d4f4-42c0-8d36-dd54010cf8f3",
        "colab": {
          "base_uri": "https://localhost:8080/",
          "height": 823
        }
      },
      "source": [
        "np.floor((172792/3600)%24)\n",
        "np.floor((89000/3600)%24)\n",
        "\n",
        "\n",
        "sns.distplot(df['scaled_time'])\n",
        "plt.figure()\n",
        "sns.distplot(df_fraud['scaled_time'])\n",
        "plt.legend('Fraud')\n",
        "plt.figure()\n",
        "sns.distplot(df_nofraud['scaled_time'])"
      ],
      "execution_count": 0,
      "outputs": [
        {
          "output_type": "execute_result",
          "data": {
            "text/plain": [
              "<matplotlib.axes._subplots.AxesSubplot at 0x7f0f35fc7ba8>"
            ]
          },
          "metadata": {
            "tags": []
          },
          "execution_count": 6
        },
        {
          "output_type": "display_data",
          "data": {
            "image/png": "[encoded data removed]",
            "text/plain": [
              "<Figure size 432x288 with 1 Axes>"
            ]
          },
          "metadata": {
            "tags": []
          }
        },
        {
          "output_type": "display_data",
          "data": {
            "image/png": "[encoded data removed]",
            "text/plain": [
              "<Figure size 432x288 with 1 Axes>"
            ]
          },
          "metadata": {
            "tags": []
          }
        },
        {
          "output_type": "display_data",
          "data": {
            "image/png": "[encoded data removed]",
            "text/plain": [
              "<Figure size 432x288 with 1 Axes>"
            ]
          },
          "metadata": {
            "tags": []
          }
        }
      ]
    },
    {
      "cell_type": "code",
      "metadata": {
        "id": "fnLwS4zj7Kgz",
        "colab_type": "code",
        "outputId": "ef21d692-86b3-4cdf-e871-a0e1cabad2ad",
        "colab": {
          "base_uri": "https://localhost:8080/",
          "height": 296
        }
      },
      "source": [
        "sns.distplot(df_fraud['Amount'])\n",
        "sns.distplot(df_nofraud['Amount'])\n",
        "plt.legend(labels=['Fraud','No fraud'])"
      ],
      "execution_count": 0,
      "outputs": [
        {
          "output_type": "execute_result",
          "data": {
            "text/plain": [
              "<matplotlib.legend.Legend at 0x7f0f35e3aef0>"
            ]
          },
          "metadata": {
            "tags": []
          },
          "execution_count": 7
        },
        {
          "output_type": "display_data",
          "data": {
            "image/png": "[encoded data removed]",
            "text/plain": [
              "<Figure size 432x288 with 1 Axes>"
            ]
          },
          "metadata": {
            "tags": []
          }
        }
      ]
    },
    {
      "cell_type": "code",
      "metadata": {
        "id": "xQLoNJiF7s75",
        "colab_type": "code",
        "outputId": "39c2fc1a-ea9f-4fdc-8f5c-dcde8cfd3690",
        "colab": {
          "base_uri": "https://localhost:8080/",
          "height": 296
        }
      },
      "source": [
        "\n",
        "sns.distplot(df_fraud[df_fraud['Amount']<300]['Amount'])"
      ],
      "execution_count": 0,
      "outputs": [
        {
          "output_type": "execute_result",
          "data": {
            "text/plain": [
              "<matplotlib.axes._subplots.AxesSubplot at 0x7fa4da0d3710>"
            ]
          },
          "metadata": {
            "tags": []
          },
          "execution_count": 9
        },
        {
          "output_type": "display_data",
          "data": {
            "image/png": "[encoded data removed]",
            "text/plain": [
              "<Figure size 432x288 with 1 Axes>"
            ]
          },
          "metadata": {
            "tags": []
          }
        }
      ]
    },
    {
      "cell_type": "code",
      "metadata": {
        "id": "lYM8gh-CxlA7",
        "colab_type": "code",
        "outputId": "7bf8a41f-c285-4ff2-c46e-14cee5630769",
        "colab": {
          "base_uri": "https://localhost:8080/",
          "height": 909
        }
      },
      "source": [
        "df_fraud.info()\n",
        "df_fraud.describe()"
      ],
      "execution_count": 0,
      "outputs": [
        {
          "output_type": "stream",
          "text": [
            "<class 'pandas.core.frame.DataFrame'>\n",
            "Int64Index: 369 entries, 1122 to 212910\n",
            "Data columns (total 31 columns):\n",
            "Time      369 non-null float64\n",
            "V1        369 non-null float64\n",
            "V2        369 non-null float64\n",
            "V3        369 non-null float64\n",
            "V4        369 non-null float64\n",
            "V5        369 non-null float64\n",
            "V6        369 non-null float64\n",
            "V7        369 non-null float64\n",
            "V8        369 non-null float64\n",
            "V9        369 non-null float64\n",
            "V10       369 non-null float64\n",
            "V11       369 non-null float64\n",
            "V12       369 non-null float64\n",
            "V13       369 non-null float64\n",
            "V14       369 non-null float64\n",
            "V15       369 non-null float64\n",
            "V16       369 non-null float64\n",
            "V17       369 non-null float64\n",
            "V18       369 non-null float64\n",
            "V19       369 non-null float64\n",
            "V20       369 non-null float64\n",
            "V21       369 non-null float64\n",
            "V22       369 non-null float64\n",
            "V23       369 non-null float64\n",
            "V24       369 non-null float64\n",
            "V25       369 non-null float64\n",
            "V26       369 non-null float64\n",
            "V27       369 non-null float64\n",
            "V28       369 non-null float64\n",
            "Amount    369 non-null float64\n",
            "Class     369 non-null int64\n",
            "dtypes: float64(30), int64(1)\n",
            "memory usage: 92.2 KB\n"
          ],
          "name": "stdout"
        },
        {
          "output_type": "execute_result",
          "data": {
            "text/html": [
              "<div>\n",
              "<style scoped>\n",
              "    .dataframe tbody tr th:only-of-type {\n",
              "        vertical-align: middle;\n",
              "    }\n",
              "\n",
              "    .dataframe tbody tr th {\n",
              "        vertical-align: top;\n",
              "    }\n",
              "\n",
              "    .dataframe thead th {\n",
              "        text-align: right;\n",
              "    }\n",
              "</style>\n",
              "<table border=\"1\" class=\"dataframe\">\n",
              "  <thead>\n",
              "    <tr style=\"text-align: right;\">\n",
              "      <th></th>\n",
              "      <th>Time</th>\n",
              "      <th>V1</th>\n",
              "      <th>V2</th>\n",
              "      <th>V3</th>\n",
              "      <th>V4</th>\n",
              "      <th>V5</th>\n",
              "      <th>V6</th>\n",
              "      <th>V7</th>\n",
              "      <th>V8</th>\n",
              "      <th>V9</th>\n",
              "      <th>V10</th>\n",
              "      <th>V11</th>\n",
              "      <th>V12</th>\n",
              "      <th>V13</th>\n",
              "      <th>V14</th>\n",
              "      <th>V15</th>\n",
              "      <th>V16</th>\n",
              "      <th>V17</th>\n",
              "      <th>V18</th>\n",
              "      <th>V19</th>\n",
              "      <th>V20</th>\n",
              "      <th>V21</th>\n",
              "      <th>V22</th>\n",
              "      <th>V23</th>\n",
              "      <th>V24</th>\n",
              "      <th>V25</th>\n",
              "      <th>V26</th>\n",
              "      <th>V27</th>\n",
              "      <th>V28</th>\n",
              "      <th>Amount</th>\n",
              "      <th>Class</th>\n",
              "    </tr>\n",
              "  </thead>\n",
              "  <tbody>\n",
              "    <tr>\n",
              "      <th>count</th>\n",
              "      <td>369.000000</td>\n",
              "      <td>369.000000</td>\n",
              "      <td>369.000000</td>\n",
              "      <td>369.000000</td>\n",
              "      <td>369.000000</td>\n",
              "      <td>369.000000</td>\n",
              "      <td>369.000000</td>\n",
              "      <td>369.000000</td>\n",
              "      <td>369.000000</td>\n",
              "      <td>369.000000</td>\n",
              "      <td>369.000000</td>\n",
              "      <td>369.000000</td>\n",
              "      <td>369.000000</td>\n",
              "      <td>369.000000</td>\n",
              "      <td>369.000000</td>\n",
              "      <td>369.000000</td>\n",
              "      <td>369.000000</td>\n",
              "      <td>369.000000</td>\n",
              "      <td>369.000000</td>\n",
              "      <td>369.000000</td>\n",
              "      <td>369.000000</td>\n",
              "      <td>369.000000</td>\n",
              "      <td>369.000000</td>\n",
              "      <td>369.000000</td>\n",
              "      <td>369.000000</td>\n",
              "      <td>369.000000</td>\n",
              "      <td>369.000000</td>\n",
              "      <td>369.000000</td>\n",
              "      <td>369.000000</td>\n",
              "      <td>369.000000</td>\n",
              "      <td>369.0</td>\n",
              "    </tr>\n",
              "    <tr>\n",
              "      <th>mean</th>\n",
              "      <td>81742.769648</td>\n",
              "      <td>-4.586912</td>\n",
              "      <td>3.607730</td>\n",
              "      <td>-6.839043</td>\n",
              "      <td>4.405857</td>\n",
              "      <td>-3.091104</td>\n",
              "      <td>-1.360680</td>\n",
              "      <td>-5.422950</td>\n",
              "      <td>0.484907</td>\n",
              "      <td>-2.545094</td>\n",
              "      <td>-5.549502</td>\n",
              "      <td>3.635253</td>\n",
              "      <td>-6.102522</td>\n",
              "      <td>-0.117007</td>\n",
              "      <td>-6.841104</td>\n",
              "      <td>-0.050836</td>\n",
              "      <td>-4.088737</td>\n",
              "      <td>-6.562522</td>\n",
              "      <td>-2.225902</td>\n",
              "      <td>0.686498</td>\n",
              "      <td>0.387236</td>\n",
              "      <td>0.766251</td>\n",
              "      <td>0.013921</td>\n",
              "      <td>0.081441</td>\n",
              "      <td>-0.104428</td>\n",
              "      <td>0.050772</td>\n",
              "      <td>0.047553</td>\n",
              "      <td>0.148435</td>\n",
              "      <td>0.084942</td>\n",
              "      <td>110.438157</td>\n",
              "      <td>1.0</td>\n",
              "    </tr>\n",
              "    <tr>\n",
              "      <th>std</th>\n",
              "      <td>48471.700261</td>\n",
              "      <td>6.694782</td>\n",
              "      <td>4.312807</td>\n",
              "      <td>6.931307</td>\n",
              "      <td>2.849054</td>\n",
              "      <td>5.274777</td>\n",
              "      <td>1.850759</td>\n",
              "      <td>7.181037</td>\n",
              "      <td>7.064123</td>\n",
              "      <td>2.501627</td>\n",
              "      <td>4.824995</td>\n",
              "      <td>2.668387</td>\n",
              "      <td>4.584707</td>\n",
              "      <td>1.116228</td>\n",
              "      <td>4.262592</td>\n",
              "      <td>1.054479</td>\n",
              "      <td>3.824035</td>\n",
              "      <td>6.957197</td>\n",
              "      <td>2.887444</td>\n",
              "      <td>1.518055</td>\n",
              "      <td>1.401716</td>\n",
              "      <td>4.067469</td>\n",
              "      <td>1.550562</td>\n",
              "      <td>1.114900</td>\n",
              "      <td>0.530055</td>\n",
              "      <td>0.770953</td>\n",
              "      <td>0.480527</td>\n",
              "      <td>1.332533</td>\n",
              "      <td>0.518405</td>\n",
              "      <td>221.502314</td>\n",
              "      <td>0.0</td>\n",
              "    </tr>\n",
              "    <tr>\n",
              "      <th>min</th>\n",
              "      <td>406.000000</td>\n",
              "      <td>-29.876366</td>\n",
              "      <td>-8.402154</td>\n",
              "      <td>-30.558697</td>\n",
              "      <td>-1.313275</td>\n",
              "      <td>-21.665654</td>\n",
              "      <td>-6.406267</td>\n",
              "      <td>-43.557242</td>\n",
              "      <td>-41.044261</td>\n",
              "      <td>-13.434066</td>\n",
              "      <td>-24.588262</td>\n",
              "      <td>-1.702228</td>\n",
              "      <td>-18.553697</td>\n",
              "      <td>-3.127795</td>\n",
              "      <td>-19.214325</td>\n",
              "      <td>-4.498945</td>\n",
              "      <td>-13.563273</td>\n",
              "      <td>-25.162799</td>\n",
              "      <td>-9.335193</td>\n",
              "      <td>-3.681904</td>\n",
              "      <td>-4.128186</td>\n",
              "      <td>-22.797604</td>\n",
              "      <td>-8.887017</td>\n",
              "      <td>-5.988806</td>\n",
              "      <td>-2.028024</td>\n",
              "      <td>-2.167510</td>\n",
              "      <td>-1.152671</td>\n",
              "      <td>-7.263482</td>\n",
              "      <td>-1.796363</td>\n",
              "      <td>0.000000</td>\n",
              "      <td>1.0</td>\n",
              "    </tr>\n",
              "    <tr>\n",
              "      <th>25%</th>\n",
              "      <td>41313.000000</td>\n",
              "      <td>-5.839192</td>\n",
              "      <td>1.189757</td>\n",
              "      <td>-8.451410</td>\n",
              "      <td>2.230778</td>\n",
              "      <td>-4.409844</td>\n",
              "      <td>-2.445140</td>\n",
              "      <td>-7.281328</td>\n",
              "      <td>-0.164910</td>\n",
              "      <td>-3.838399</td>\n",
              "      <td>-7.297803</td>\n",
              "      <td>1.880602</td>\n",
              "      <td>-8.576761</td>\n",
              "      <td>-1.012791</td>\n",
              "      <td>-9.377878</td>\n",
              "      <td>-0.590224</td>\n",
              "      <td>-6.366500</td>\n",
              "      <td>-11.644603</td>\n",
              "      <td>-4.568859</td>\n",
              "      <td>-0.221267</td>\n",
              "      <td>-0.158971</td>\n",
              "      <td>0.105593</td>\n",
              "      <td>-0.531496</td>\n",
              "      <td>-0.304666</td>\n",
              "      <td>-0.434643</td>\n",
              "      <td>-0.325033</td>\n",
              "      <td>-0.263934</td>\n",
              "      <td>-0.019579</td>\n",
              "      <td>-0.098173</td>\n",
              "      <td>1.000000</td>\n",
              "      <td>1.0</td>\n",
              "    </tr>\n",
              "    <tr>\n",
              "      <th>50%</th>\n",
              "      <td>75033.000000</td>\n",
              "      <td>-2.303350</td>\n",
              "      <td>2.708535</td>\n",
              "      <td>-5.111658</td>\n",
              "      <td>4.028391</td>\n",
              "      <td>-1.433055</td>\n",
              "      <td>-1.419748</td>\n",
              "      <td>-3.005953</td>\n",
              "      <td>0.672409</td>\n",
              "      <td>-2.042416</td>\n",
              "      <td>-4.594952</td>\n",
              "      <td>3.480602</td>\n",
              "      <td>-5.403768</td>\n",
              "      <td>-0.067498</td>\n",
              "      <td>-6.679977</td>\n",
              "      <td>-0.044180</td>\n",
              "      <td>-3.562534</td>\n",
              "      <td>-5.231425</td>\n",
              "      <td>-1.524505</td>\n",
              "      <td>0.626059</td>\n",
              "      <td>0.274027</td>\n",
              "      <td>0.594623</td>\n",
              "      <td>0.043807</td>\n",
              "      <td>-0.041461</td>\n",
              "      <td>-0.060327</td>\n",
              "      <td>0.068951</td>\n",
              "      <td>-0.002601</td>\n",
              "      <td>0.389152</td>\n",
              "      <td>0.144774</td>\n",
              "      <td>9.820000</td>\n",
              "      <td>1.0</td>\n",
              "    </tr>\n",
              "    <tr>\n",
              "      <th>75%</th>\n",
              "      <td>129308.000000</td>\n",
              "      <td>-0.361428</td>\n",
              "      <td>4.864535</td>\n",
              "      <td>-2.220907</td>\n",
              "      <td>6.320089</td>\n",
              "      <td>0.175739</td>\n",
              "      <td>-0.411924</td>\n",
              "      <td>-0.974073</td>\n",
              "      <td>1.869838</td>\n",
              "      <td>-0.788388</td>\n",
              "      <td>-2.516628</td>\n",
              "      <td>5.138547</td>\n",
              "      <td>-2.824946</td>\n",
              "      <td>0.681222</td>\n",
              "      <td>-4.211756</td>\n",
              "      <td>0.690010</td>\n",
              "      <td>-1.359389</td>\n",
              "      <td>-1.312059</td>\n",
              "      <td>0.055604</td>\n",
              "      <td>1.589582</td>\n",
              "      <td>0.808336</td>\n",
              "      <td>1.242896</td>\n",
              "      <td>0.624207</td>\n",
              "      <td>0.320133</td>\n",
              "      <td>0.298242</td>\n",
              "      <td>0.456090</td>\n",
              "      <td>0.400348</td>\n",
              "      <td>0.782036</td>\n",
              "      <td>0.383869</td>\n",
              "      <td>105.990000</td>\n",
              "      <td>1.0</td>\n",
              "    </tr>\n",
              "    <tr>\n",
              "      <th>max</th>\n",
              "      <td>170348.000000</td>\n",
              "      <td>2.132386</td>\n",
              "      <td>22.057729</td>\n",
              "      <td>2.250210</td>\n",
              "      <td>11.864868</td>\n",
              "      <td>9.880564</td>\n",
              "      <td>6.474115</td>\n",
              "      <td>5.802537</td>\n",
              "      <td>19.587773</td>\n",
              "      <td>3.353525</td>\n",
              "      <td>3.245086</td>\n",
              "      <td>12.018913</td>\n",
              "      <td>1.375941</td>\n",
              "      <td>2.815440</td>\n",
              "      <td>1.571080</td>\n",
              "      <td>2.471358</td>\n",
              "      <td>3.139656</td>\n",
              "      <td>6.739384</td>\n",
              "      <td>3.790316</td>\n",
              "      <td>5.228342</td>\n",
              "      <td>11.059004</td>\n",
              "      <td>27.202839</td>\n",
              "      <td>8.361985</td>\n",
              "      <td>5.466230</td>\n",
              "      <td>1.091435</td>\n",
              "      <td>2.156042</td>\n",
              "      <td>2.745261</td>\n",
              "      <td>2.352333</td>\n",
              "      <td>1.773326</td>\n",
              "      <td>2125.870000</td>\n",
              "      <td>1.0</td>\n",
              "    </tr>\n",
              "  </tbody>\n",
              "</table>\n",
              "</div>"
            ],
            "text/plain": [
              "                Time          V1          V2  ...         V28       Amount  Class\n",
              "count     369.000000  369.000000  369.000000  ...  369.000000   369.000000  369.0\n",
              "mean    81742.769648   -4.586912    3.607730  ...    0.084942   110.438157    1.0\n",
              "std     48471.700261    6.694782    4.312807  ...    0.518405   221.502314    0.0\n",
              "min       406.000000  -29.876366   -8.402154  ...   -1.796363     0.000000    1.0\n",
              "25%     41313.000000   -5.839192    1.189757  ...   -0.098173     1.000000    1.0\n",
              "50%     75033.000000   -2.303350    2.708535  ...    0.144774     9.820000    1.0\n",
              "75%    129308.000000   -0.361428    4.864535  ...    0.383869   105.990000    1.0\n",
              "max    170348.000000    2.132386   22.057729  ...    1.773326  2125.870000    1.0\n",
              "\n",
              "[8 rows x 31 columns]"
            ]
          },
          "metadata": {
            "tags": []
          },
          "execution_count": 10
        }
      ]
    },
    {
      "cell_type": "code",
      "metadata": {
        "id": "6bgfpgHqTA19",
        "colab_type": "code",
        "outputId": "67ed086f-b6d6-4d5d-c8d6-3fc6065c688a",
        "colab": {
          "base_uri": "https://localhost:8080/",
          "height": 303
        }
      },
      "source": [
        "sns.heatmap(df.corr())"
      ],
      "execution_count": 0,
      "outputs": [
        {
          "output_type": "execute_result",
          "data": {
            "text/plain": [
              "<matplotlib.axes._subplots.AxesSubplot at 0x7fa4d9c2ce10>"
            ]
          },
          "metadata": {
            "tags": []
          },
          "execution_count": 11
        },
        {
          "output_type": "display_data",
          "data": {
            "image/png": "[encoded data removed]",
            "text/plain": [
              "<Figure size 432x288 with 2 Axes>"
            ]
          },
          "metadata": {
            "tags": []
          }
        }
      ]
    },
    {
      "cell_type": "markdown",
      "metadata": {
        "id": "CpZ6Kv0RWvwk",
        "colab_type": "text"
      },
      "source": [
        "Przejdźmy do skalowania danych. \n",
        "Musimy się zastanowić, jak chcemy przeskalować Amount i Time.\n",
        "Nie sugerujcie się tym co zakodowałem, myślę, że wczoraj na prezentacjach były przedstawione ciekawsze metody poradzenia sobie z czasem. Jak np przypisanie informacji binarnej o czy transakcja została wykonana pomiędzy określonymi godzinami.\n",
        "Co do amount myślę, że zaproponowany sposób skalowania jest git, ale oczywiście można to zrobić standaryzacją lub innym skalerem.\n"
      ]
    },
    {
      "cell_type": "code",
      "metadata": {
        "id": "AsxqP77CQGGS",
        "colab_type": "code",
        "outputId": "1fbadc00-16a3-4b7d-9a08-8531711a24cd",
        "colab": {
          "base_uri": "https://localhost:8080/",
          "height": 215
        }
      },
      "source": [
        "Rob_scaler=RobustScaler()\n",
        "\n",
        "df['scaled_Amount']=Rob_scaler.fit_transform(df['Amount'].values.reshape(-1,1))\n",
        "df.head()"
      ],
      "execution_count": 0,
      "outputs": [
        {
          "output_type": "execute_result",
          "data": {
            "text/html": [
              "<div>\n",
              "<style scoped>\n",
              "    .dataframe tbody tr th:only-of-type {\n",
              "        vertical-align: middle;\n",
              "    }\n",
              "\n",
              "    .dataframe tbody tr th {\n",
              "        vertical-align: top;\n",
              "    }\n",
              "\n",
              "    .dataframe thead th {\n",
              "        text-align: right;\n",
              "    }\n",
              "</style>\n",
              "<table border=\"1\" class=\"dataframe\">\n",
              "  <thead>\n",
              "    <tr style=\"text-align: right;\">\n",
              "      <th></th>\n",
              "      <th>Time</th>\n",
              "      <th>V1</th>\n",
              "      <th>V2</th>\n",
              "      <th>V3</th>\n",
              "      <th>V4</th>\n",
              "      <th>V5</th>\n",
              "      <th>V6</th>\n",
              "      <th>V7</th>\n",
              "      <th>V8</th>\n",
              "      <th>V9</th>\n",
              "      <th>V10</th>\n",
              "      <th>V11</th>\n",
              "      <th>V12</th>\n",
              "      <th>V13</th>\n",
              "      <th>V14</th>\n",
              "      <th>V15</th>\n",
              "      <th>V16</th>\n",
              "      <th>V17</th>\n",
              "      <th>V18</th>\n",
              "      <th>V19</th>\n",
              "      <th>V20</th>\n",
              "      <th>V21</th>\n",
              "      <th>V22</th>\n",
              "      <th>V23</th>\n",
              "      <th>V24</th>\n",
              "      <th>V25</th>\n",
              "      <th>V26</th>\n",
              "      <th>V27</th>\n",
              "      <th>V28</th>\n",
              "      <th>Amount</th>\n",
              "      <th>Class</th>\n",
              "      <th>scaled_time</th>\n",
              "      <th>scaled_Amount</th>\n",
              "    </tr>\n",
              "  </thead>\n",
              "  <tbody>\n",
              "    <tr>\n",
              "      <th>0</th>\n",
              "      <td>127614.0</td>\n",
              "      <td>2.004188</td>\n",
              "      <td>-0.287498</td>\n",
              "      <td>-1.984934</td>\n",
              "      <td>0.342239</td>\n",
              "      <td>0.413188</td>\n",
              "      <td>-0.815346</td>\n",
              "      <td>0.445456</td>\n",
              "      <td>-0.299258</td>\n",
              "      <td>0.562445</td>\n",
              "      <td>0.109932</td>\n",
              "      <td>-1.381862</td>\n",
              "      <td>-0.428037</td>\n",
              "      <td>-1.230877</td>\n",
              "      <td>0.629739</td>\n",
              "      <td>-0.242149</td>\n",
              "      <td>-0.388169</td>\n",
              "      <td>-0.137390</td>\n",
              "      <td>-0.552790</td>\n",
              "      <td>0.315548</td>\n",
              "      <td>-0.152272</td>\n",
              "      <td>-0.038661</td>\n",
              "      <td>-0.127194</td>\n",
              "      <td>0.036464</td>\n",
              "      <td>0.504076</td>\n",
              "      <td>0.176423</td>\n",
              "      <td>0.541252</td>\n",
              "      <td>-0.121212</td>\n",
              "      <td>-0.064948</td>\n",
              "      <td>64.99</td>\n",
              "      <td>0</td>\n",
              "      <td>11.0</td>\n",
              "      <td>0.601848</td>\n",
              "    </tr>\n",
              "    <tr>\n",
              "      <th>1</th>\n",
              "      <td>139389.0</td>\n",
              "      <td>2.346905</td>\n",
              "      <td>-1.264915</td>\n",
              "      <td>-1.034900</td>\n",
              "      <td>-1.568721</td>\n",
              "      <td>-1.122435</td>\n",
              "      <td>-0.790624</td>\n",
              "      <td>-1.011732</td>\n",
              "      <td>-0.268243</td>\n",
              "      <td>-1.229191</td>\n",
              "      <td>1.576645</td>\n",
              "      <td>-1.286030</td>\n",
              "      <td>-0.816409</td>\n",
              "      <td>0.603102</td>\n",
              "      <td>-0.437890</td>\n",
              "      <td>-0.164642</td>\n",
              "      <td>-0.582255</td>\n",
              "      <td>0.427399</td>\n",
              "      <td>-0.134499</td>\n",
              "      <td>-0.049048</td>\n",
              "      <td>-0.460329</td>\n",
              "      <td>-0.196288</td>\n",
              "      <td>0.015015</td>\n",
              "      <td>0.197023</td>\n",
              "      <td>-0.432445</td>\n",
              "      <td>-0.119139</td>\n",
              "      <td>-0.131627</td>\n",
              "      <td>0.015176</td>\n",
              "      <td>-0.058104</td>\n",
              "      <td>1.00</td>\n",
              "      <td>0</td>\n",
              "      <td>15.0</td>\n",
              "      <td>-0.293994</td>\n",
              "    </tr>\n",
              "    <tr>\n",
              "      <th>2</th>\n",
              "      <td>68482.0</td>\n",
              "      <td>-3.089671</td>\n",
              "      <td>2.464689</td>\n",
              "      <td>0.042745</td>\n",
              "      <td>1.670674</td>\n",
              "      <td>-2.129076</td>\n",
              "      <td>0.600262</td>\n",
              "      <td>-1.627286</td>\n",
              "      <td>2.452801</td>\n",
              "      <td>0.319063</td>\n",
              "      <td>-0.526330</td>\n",
              "      <td>-1.681347</td>\n",
              "      <td>1.951140</td>\n",
              "      <td>1.001432</td>\n",
              "      <td>0.346440</td>\n",
              "      <td>-1.625289</td>\n",
              "      <td>-1.128464</td>\n",
              "      <td>1.888585</td>\n",
              "      <td>-1.045530</td>\n",
              "      <td>1.149073</td>\n",
              "      <td>-0.060298</td>\n",
              "      <td>-0.223384</td>\n",
              "      <td>-0.441265</td>\n",
              "      <td>0.250283</td>\n",
              "      <td>0.091483</td>\n",
              "      <td>-0.038373</td>\n",
              "      <td>-0.410096</td>\n",
              "      <td>0.088944</td>\n",
              "      <td>0.026973</td>\n",
              "      <td>30.70</td>\n",
              "      <td>0</td>\n",
              "      <td>19.0</td>\n",
              "      <td>0.121798</td>\n",
              "    </tr>\n",
              "    <tr>\n",
              "      <th>3</th>\n",
              "      <td>123677.0</td>\n",
              "      <td>1.792358</td>\n",
              "      <td>-0.384458</td>\n",
              "      <td>-2.170063</td>\n",
              "      <td>0.096243</td>\n",
              "      <td>0.291162</td>\n",
              "      <td>-1.510182</td>\n",
              "      <td>0.921037</td>\n",
              "      <td>-0.525263</td>\n",
              "      <td>-0.088484</td>\n",
              "      <td>0.119203</td>\n",
              "      <td>1.171025</td>\n",
              "      <td>1.013250</td>\n",
              "      <td>-0.123025</td>\n",
              "      <td>1.041171</td>\n",
              "      <td>-0.323426</td>\n",
              "      <td>-0.460035</td>\n",
              "      <td>-0.465857</td>\n",
              "      <td>-0.061338</td>\n",
              "      <td>0.309959</td>\n",
              "      <td>0.072457</td>\n",
              "      <td>0.297749</td>\n",
              "      <td>0.633531</td>\n",
              "      <td>-0.176001</td>\n",
              "      <td>0.146116</td>\n",
              "      <td>0.342753</td>\n",
              "      <td>0.198887</td>\n",
              "      <td>-0.117734</td>\n",
              "      <td>-0.061706</td>\n",
              "      <td>154.09</td>\n",
              "      <td>0</td>\n",
              "      <td>10.0</td>\n",
              "      <td>1.849223</td>\n",
              "    </tr>\n",
              "    <tr>\n",
              "      <th>4</th>\n",
              "      <td>121222.0</td>\n",
              "      <td>2.188008</td>\n",
              "      <td>-0.400212</td>\n",
              "      <td>-1.627908</td>\n",
              "      <td>-0.225692</td>\n",
              "      <td>-0.133549</td>\n",
              "      <td>-1.273351</td>\n",
              "      <td>0.226144</td>\n",
              "      <td>-0.553975</td>\n",
              "      <td>-0.908684</td>\n",
              "      <td>0.877520</td>\n",
              "      <td>-0.845913</td>\n",
              "      <td>0.763512</td>\n",
              "      <td>1.478457</td>\n",
              "      <td>0.027869</td>\n",
              "      <td>-0.734253</td>\n",
              "      <td>-2.244708</td>\n",
              "      <td>0.184697</td>\n",
              "      <td>0.251184</td>\n",
              "      <td>-0.646467</td>\n",
              "      <td>-0.558023</td>\n",
              "      <td>-0.338599</td>\n",
              "      <td>-0.220436</td>\n",
              "      <td>0.112804</td>\n",
              "      <td>0.049313</td>\n",
              "      <td>0.157236</td>\n",
              "      <td>0.606729</td>\n",
              "      <td>-0.063450</td>\n",
              "      <td>-0.071105</td>\n",
              "      <td>10.00</td>\n",
              "      <td>0</td>\n",
              "      <td>10.0</td>\n",
              "      <td>-0.167997</td>\n",
              "    </tr>\n",
              "  </tbody>\n",
              "</table>\n",
              "</div>"
            ],
            "text/plain": [
              "       Time        V1        V2  ...  Class  scaled_time  scaled_Amount\n",
              "0  127614.0  2.004188 -0.287498  ...      0         11.0       0.601848\n",
              "1  139389.0  2.346905 -1.264915  ...      0         15.0      -0.293994\n",
              "2   68482.0 -3.089671  2.464689  ...      0         19.0       0.121798\n",
              "3  123677.0  1.792358 -0.384458  ...      0         10.0       1.849223\n",
              "4  121222.0  2.188008 -0.400212  ...      0         10.0      -0.167997\n",
              "\n",
              "[5 rows x 33 columns]"
            ]
          },
          "metadata": {
            "tags": []
          },
          "execution_count": 8
        }
      ]
    },
    {
      "cell_type": "markdown",
      "metadata": {
        "id": "O7ChhPrN7eDT",
        "colab_type": "text"
      },
      "source": [
        "Tutaj przedstawię mój sposób na przeskalowanie"
      ]
    },
    {
      "cell_type": "markdown",
      "metadata": {
        "id": "fQbYq1Y7zoZZ",
        "colab_type": "text"
      },
      "source": [
        "Poniżej tego komentarza jest miejsce by każdy z nas zaproponował swój model.\n",
        "Proponuje swoją część kodu rozdzielić pisaniem pogrubionego imienia.\n",
        "Powyżej będziemy jeszcze te dane dopracowywać. Wiadomo jeśli ktoś chcę może po swojemu przekształcić dane do modelu.\n",
        "\n",
        "Musimy rozważyć jak radzimy sobie z niezbalansowaniem danych.\n",
        "Możemy wykonać:\n",
        "- modele na orginalnym zbiorze\n",
        "- undersampling\n",
        "- oversampling\n",
        "Na koniec porównać wyniki.\n",
        "\n",
        "Co do modeli, myślę, że warto użyć przynajmniej kilku:\n",
        "Ja sprawdzę: Logistic Regresion, Decision Tree, NN....\n"
      ]
    },
    {
      "cell_type": "markdown",
      "metadata": {
        "id": "xPSqShwB-eFm",
        "colab_type": "text"
      },
      "source": [
        "**TOMEK**"
      ]
    },
    {
      "cell_type": "code",
      "metadata": {
        "id": "Af0QoSPB_BEh",
        "colab_type": "code",
        "colab": {}
      },
      "source": [
        "# Wykonam model regresji logistycznej dla wszystkich danych\n",
        "df=df.drop(columns=['Time','Amount'])\n",
        "\n"
      ],
      "execution_count": 0,
      "outputs": []
    },
    {
      "cell_type": "code",
      "metadata": {
        "id": "i398ONnzHJ87",
        "colab_type": "code",
        "outputId": "1dd65786-d4c1-4659-9a00-e9f775b9a5a7",
        "colab": {
          "base_uri": "https://localhost:8080/",
          "height": 427
        }
      },
      "source": [
        "X=df.drop(columns=['Class'])\n",
        "y=df['Class']\n",
        "X_train,X_test,y_train,y_test=train_test_split(X,y,test_size=0.25,random_state=42)\n",
        "log_reg=LogisticRegression()\n",
        "log_reg.fit(X_train,y_train)\n",
        "y_pred=log_reg.predict(X_test)\n",
        "\n",
        "\n",
        "\n",
        "cnf_matrix = confusion_matrix(y_test, y_pred)\n",
        "class_names=[0,1] # name  of classes\n",
        "fig, ax = plt.subplots()\n",
        "tick_marks = np.arange(len(class_names))\n",
        "plt.xticks(tick_marks, class_names)\n",
        "plt.yticks(tick_marks, class_names)\n",
        "sns.heatmap(pd.DataFrame(cnf_matrix), annot=True, cmap=\"YlGnBu\" ,fmt='g')\n",
        "ax.xaxis.set_label_position(\"top\")\n",
        "plt.tight_layout()\n",
        "plt.title('Confusion matrix', y=1.1)\n",
        "plt.ylabel('Actual label')\n",
        "plt.xlabel('Predicted label')\n",
        "\n",
        "print('Precision equals '+ str(precision_score(y_test,y_pred)))\n",
        "print('f1` score equals'+ str(f1_score(y_test,y_pred)))\n",
        "print('recall equals' +str(recall_score(y_test,y_pred)))\n",
        "print(accuracy_score(y_test,y_pred))\n"
      ],
      "execution_count": 0,
      "outputs": [
        {
          "output_type": "stream",
          "text": [
            "/usr/local/lib/python3.6/dist-packages/sklearn/linear_model/logistic.py:432: FutureWarning: Default solver will be changed to 'lbfgs' in 0.22. Specify a solver to silence this warning.\n",
            "  FutureWarning)\n"
          ],
          "name": "stderr"
        },
        {
          "output_type": "stream",
          "text": [
            "Precision equals 0.9016393442622951\n",
            "f1` score equals0.6875\n",
            "recall equals0.5555555555555556\n",
            "0.9990637054791955\n"
          ],
          "name": "stdout"
        },
        {
          "output_type": "display_data",
          "data": {
            "image/png": "[encoded data removed]",
            "text/plain": [
              "<Figure size 432x288 with 2 Axes>"
            ]
          },
          "metadata": {
            "tags": []
          }
        }
      ]
    },
    {
      "cell_type": "code",
      "metadata": {
        "id": "OllXEQOPkDbq",
        "colab_type": "code",
        "outputId": "ada58ed2-50cc-4e7b-a4b0-b2451eeb7295",
        "colab": {
          "base_uri": "https://localhost:8080/",
          "height": 279
        }
      },
      "source": [
        "# Wykonam ROC CURVE dla wybranego modelu\n",
        "fpr, tpr, trashhold = roc_curve(y_test,  y_pred)\n",
        "auc = roc_auc_score(y_test, y_pred)\n",
        "plt.plot(fpr,tpr,label=\"data 1, auc=\"+str(auc))\n",
        "plt.legend(loc=4)\n",
        "plt.xlabel('FPR')\n",
        "plt.ylabel('TPR')\n",
        "plt.show()"
      ],
      "execution_count": 0,
      "outputs": [
        {
          "output_type": "display_data",
          "data": {
            "image/png": "[encoded data removed]",
            "text/plain": [
              "<Figure size 432x288 with 1 Axes>"
            ]
          },
          "metadata": {
            "tags": []
          }
        }
      ]
    },
    {
      "cell_type": "markdown",
      "metadata": {
        "id": "0i_fQNWLk5p1",
        "colab_type": "text"
      },
      "source": [
        "Natępnie porównam modele, i na jednym rysynku narysuje ROC dla wielu modeli by wybrać ten najlepszy."
      ]
    },
    {
      "cell_type": "markdown",
      "metadata": {
        "id": "qBY9MErSPUJN",
        "colab_type": "text"
      },
      "source": [
        "Zacznę od napisania zdefiniowania funkcji, które będa mi zwracać chciane wartości na temat badanego modelu."
      ]
    },
    {
      "cell_type": "code",
      "metadata": {
        "id": "QjSoQBjNP4Yi",
        "colab_type": "code",
        "outputId": "567fac60-9471-423e-a8d9-34b1230dd180",
        "colab": {
          "base_uri": "https://localhost:8080/",
          "height": 238
        }
      },
      "source": [
        "def Log_reg(X,y):\n",
        "  X_train,X_test,y_train,y_test=train_test_split(X,y,test_size=0.25,random_state=42)\n",
        "  log_reg=LogisticRegression()\n",
        "  log_reg.fit(X_train,y_train)\n",
        "  y_pred=log_reg.predict(X_test)\n",
        "\n",
        "  cnf_matrix = confusion_matrix(y_test, y_pred)\n",
        "  precision=precision_score(y_test,y_pred)\n",
        "  accuracy=accuracy_score(y_test,y_pred)\n",
        "  f1=f1_score(y_test,y_pred)\n",
        "  recall=recall_score(y_test,y_pred)\n",
        "  fpr, tpr, trashhold = roc_curve(y_test,  y_pred)\n",
        "  auc=roc_auc_score(y_test, y_pred)\n",
        "  return cnf_matrix,precision,accuracy,f1,recall,fpr,tpr,trashhold,auc\n",
        "X=df.drop(columns=['Class'])\n",
        "y=df['Class']\n",
        "Log_reg(X,y)"
      ],
      "execution_count": 7,
      "outputs": [
        {
          "output_type": "stream",
          "text": [
            "/usr/local/lib/python3.6/dist-packages/sklearn/linear_model/logistic.py:432: FutureWarning: Default solver will be changed to 'lbfgs' in 0.22. Specify a solver to silence this warning.\n",
            "  FutureWarning)\n"
          ],
          "name": "stderr"
        },
        {
          "output_type": "execute_result",
          "data": {
            "text/plain": [
              "(array([[53280,    23],\n",
              "        [   42,    57]]),\n",
              " 0.7125,\n",
              " 0.9987828171229542,\n",
              " 0.6368715083798883,\n",
              " 0.5757575757575758,\n",
              " array([0.00000000e+00, 4.31495413e-04, 1.00000000e+00]),\n",
              " array([0.        , 0.57575758, 1.        ]),\n",
              " array([2, 1, 0]),\n",
              " 0.7876630401722798)"
            ]
          },
          "metadata": {
            "tags": []
          },
          "execution_count": 7
        }
      ]
    },
    {
      "cell_type": "code",
      "metadata": {
        "id": "6uMMn1LVWKx2",
        "colab_type": "code",
        "colab": {}
      },
      "source": [
        "def Rand_forest(X,y):\n",
        "  X_train,X_test,y_train,y_test=train_test_split(X,y,test_size=0.25,random_state=42)\n",
        "  RF=RandomForestClassifier(n_estimators=150)\n",
        "  RF.fit(X_train,y_train)\n",
        "  y_pred=RF.predict(X_test)\n",
        "\n",
        "  cnf_matrix = confusion_matrix(y_test, y_pred)\n",
        "  precision=precision_score(y_test,y_pred)\n",
        "  accuracy=accuracy_score(y_test,y_pred)\n",
        "  recall=recall_score(y_test,y_pred)\n",
        "  f1=f1_score(y_test,y_pred)\n",
        "  auc=roc_auc_score(y_test, y_pred)\n",
        "  fpr, tpr, trashhold = roc_curve(y_test,  y_pred)\n",
        "  return cnf_matrix,precision,accuracy,f1,recall,fpr,tpr,trashhold,auc\n"
      ],
      "execution_count": 0,
      "outputs": []
    },
    {
      "cell_type": "code",
      "metadata": {
        "id": "kAEwstoDrjLR",
        "colab_type": "code",
        "colab": {}
      },
      "source": [
        "def KNeig(X,y):\n",
        "  X_train,X_test,y_train,y_test=train_test_split(X,y,test_size=0.25,random_state=42)\n",
        "  Kneig=KNeighborsClassifier(n_neighbors=5)\n",
        "  Kneig.fit(X_train,y_train)\n",
        "  y_pred=Kneig.predict(X_test)\n",
        "\n",
        "  cnf_matrix = confusion_matrix(y_test, y_pred)\n",
        "  precision=precision_score(y_test,y_pred)\n",
        "  accuracy=accuracy_score(y_test,y_pred)\n",
        "  recall=recall_score(y_test,y_pred)\n",
        "  f1=f1_score(y_test,y_pred)\n",
        "  auc=roc_auc_score(y_test, y_pred)\n",
        "  fpr, tpr, trashhold = roc_curve(y_test,  y_pred)\n",
        "  return cnf_matrix,precision,accuracy,f1,recall,fpr,tpr,trashhold,auc\n"
      ],
      "execution_count": 0,
      "outputs": []
    },
    {
      "cell_type": "code",
      "metadata": {
        "id": "eBTo0j6C3TCJ",
        "colab_type": "code",
        "outputId": "b27f23f2-708a-46c4-ec68-7fd0a51c0902",
        "colab": {
          "base_uri": "https://localhost:8080/",
          "height": 252
        }
      },
      "source": [
        "def SVC_(X,y):\n",
        "  X=X.iloc[0:5000]\n",
        "  y=y.iloc[0:5000]\n",
        "  Sscaler=StandardScaler()\n",
        "  X=Sscaler.fit_transform(X)\n",
        "  X_train,X_test,y_train,y_test=train_test_split(X,y,test_size=0.25,random_state=42)\n",
        "  svc=SVC(kernel='rbf',random_state=0,gamma=1,C=1)\n",
        "  svc.fit(X_train,y_train)\n",
        "  y_pred=svc.predict(X_test)\n",
        "\n",
        "  cnf_matrix = confusion_matrix(y_test, y_pred)\n",
        "  precision=precision_score(y_test,y_pred)\n",
        "  accuracy=accuracy_score(y_test,y_pred)\n",
        "  recall=recall_score(y_test,y_pred)\n",
        "  f1=f1_score(y_test,y_pred)\n",
        "  auc=roc_auc_score(y_test, y_pred)\n",
        "  fpr, tpr, trashhold = roc_curve(y_test,  y_pred)\n",
        "  return cnf_matrix,precision,accuracy,f1,recall,fpr,tpr,trashhold,auc\n",
        "\n",
        "X=df.drop(columns=['Class'])\n",
        "y=df['Class']\n",
        "SVC_(X,y)"
      ],
      "execution_count": 9,
      "outputs": [
        {
          "output_type": "stream",
          "text": [
            "/usr/local/lib/python3.6/dist-packages/sklearn/metrics/classification.py:1437: UndefinedMetricWarning: Precision is ill-defined and being set to 0.0 due to no predicted samples.\n",
            "  'precision', 'predicted', average, warn_for)\n",
            "/usr/local/lib/python3.6/dist-packages/sklearn/metrics/classification.py:1437: UndefinedMetricWarning: F-score is ill-defined and being set to 0.0 due to no predicted samples.\n",
            "  'precision', 'predicted', average, warn_for)\n"
          ],
          "name": "stderr"
        },
        {
          "output_type": "execute_result",
          "data": {
            "text/plain": [
              "(array([[1247,    0],\n",
              "        [   3,    0]]),\n",
              " 0.0,\n",
              " 0.9976,\n",
              " 0.0,\n",
              " 0.0,\n",
              " array([0., 1.]),\n",
              " array([0., 1.]),\n",
              " array([1, 0]),\n",
              " 0.5)"
            ]
          },
          "metadata": {
            "tags": []
          },
          "execution_count": 9
        }
      ]
    },
    {
      "cell_type": "code",
      "metadata": {
        "id": "7EFp-xaUyfqX",
        "colab_type": "code",
        "outputId": "89ce9b81-4708-435c-f136-97bde846dbd9",
        "colab": {
          "base_uri": "https://localhost:8080/",
          "height": 70
        }
      },
      "source": [
        "def XGBoost_(X,y):\n",
        "  \n",
        "  \n",
        "  X_train,X_test,y_train,y_test=train_test_split(X,y,test_size=0.25,random_state=42)\n",
        "  xgb=XGBClassifier()\n",
        "  xgb.fit(X_train,y_train)\n",
        "  y_pred=xgb.predict(X_test)\n",
        "  \n",
        "\n",
        "  cnf_matrix = confusion_matrix(y_test, y_pred)\n",
        "  precision=precision_score(y_test,y_pred)\n",
        "  accuracy=accuracy_score(y_test,y_pred)\n",
        "  recall=recall_score(y_test,y_pred)\n",
        "  f1=f1_score(y_test,y_pred)\n",
        "  auc=roc_auc_score(y_test, y_pred)\n",
        "  fpr, tpr, trashhold = roc_curve(y_test,  y_pred)\n",
        "  return cnf_matrix,precision,accuracy,f1,recall,fpr,tpr,trashhold,auc\n",
        "\n",
        "X=df.drop(columns=['Class'])\n",
        "y=df['Class']\n",
        "print(XGBoost_(X,y))"
      ],
      "execution_count": 10,
      "outputs": [
        {
          "output_type": "stream",
          "text": [
            "(array([[53299,     4],\n",
            "       [   26,    73]]), 0.948051948051948, 0.9994382232875173, 0.8295454545454545, 0.7373737373737373, array([0.00000000e+00, 7.50426805e-05, 1.00000000e+00]), array([0.        , 0.73737374, 1.        ]), array([2, 1, 0]), 0.8686493473466065)\n"
          ],
          "name": "stdout"
        }
      ]
    },
    {
      "cell_type": "code",
      "metadata": {
        "id": "fJ5ytuBAqcDj",
        "colab_type": "code",
        "outputId": "cfe742d5-14c9-48af-ba17-5320d4b49075",
        "colab": {
          "base_uri": "https://localhost:8080/",
          "height": 541
        }
      },
      "source": [
        "#Neural NEtwork\n",
        "def NN_(X,y):\n",
        "  scaler=StandardScaler()\n",
        "  scaler.fit_transform(X)\n",
        "  X_train,X_test,y_train,y_test=train_test_split(X,y,test_size=0.25,random_state=42)  \n",
        "  model = Sequential()\n",
        "\n",
        "  \n",
        "  model.add(Dense(11, activation='relu', input_shape=(30,)))\n",
        " \n",
        "  model.add(Dense(121, activation='relu'))\n",
        "\n",
        "  model.add(Dense(1, activation='sigmoid'))\n",
        "\n",
        "  model.compile(loss='binary_crossentropy',\n",
        "              optimizer='adam',\n",
        "              )\n",
        "  early_stopping_monitor = EarlyStopping(patience=2)                 \n",
        "  model.fit(X_train, y_train,epochs=5, batch_size=1, verbose=1, validation_data=(X_test,y_test),callbacks=[early_stopping_monitor])\n",
        "\n",
        "  model.evaluate(X_test,y_test)\n",
        "  y_pred = model.predict_classes(X_test)\n",
        "\n",
        "  cnf_matrix = confusion_matrix(y_test, y_pred)\n",
        "  precision=precision_score(y_test,y_pred)\n",
        "  accuracy=accuracy_score(y_test,y_pred)\n",
        "  recall=recall_score(y_test,y_pred)\n",
        "  f1=f1_score(y_test,y_pred)\n",
        "  auc=roc_auc_score(y_test, y_pred)\n",
        "  fpr, tpr, trashhold = roc_curve(y_test,  y_pred)\n",
        "\n",
        "  return cnf_matrix,precision,accuracy,f1,recall,fpr,tpr,trashhold,auc\n",
        "X=df.drop(columns=['Class'])\n",
        "y=df['Class']\n",
        "print(NN_(X,y))"
      ],
      "execution_count": 13,
      "outputs": [
        {
          "output_type": "stream",
          "text": [
            "WARNING:tensorflow:From /usr/local/lib/python3.6/dist-packages/keras/backend/tensorflow_backend.py:1033: The name tf.assign_add is deprecated. Please use tf.compat.v1.assign_add instead.\n",
            "\n",
            "WARNING:tensorflow:From /usr/local/lib/python3.6/dist-packages/keras/backend/tensorflow_backend.py:1020: The name tf.assign is deprecated. Please use tf.compat.v1.assign instead.\n",
            "\n",
            "WARNING:tensorflow:From /usr/local/lib/python3.6/dist-packages/keras/backend/tensorflow_backend.py:3005: The name tf.Session is deprecated. Please use tf.compat.v1.Session instead.\n",
            "\n",
            "Train on 160203 samples, validate on 53402 samples\n",
            "Epoch 1/5\n",
            "WARNING:tensorflow:From /usr/local/lib/python3.6/dist-packages/keras/backend/tensorflow_backend.py:190: The name tf.get_default_session is deprecated. Please use tf.compat.v1.get_default_session instead.\n",
            "\n",
            "WARNING:tensorflow:From /usr/local/lib/python3.6/dist-packages/keras/backend/tensorflow_backend.py:197: The name tf.ConfigProto is deprecated. Please use tf.compat.v1.ConfigProto instead.\n",
            "\n",
            "WARNING:tensorflow:From /usr/local/lib/python3.6/dist-packages/keras/backend/tensorflow_backend.py:207: The name tf.global_variables is deprecated. Please use tf.compat.v1.global_variables instead.\n",
            "\n",
            "WARNING:tensorflow:From /usr/local/lib/python3.6/dist-packages/keras/backend/tensorflow_backend.py:216: The name tf.is_variable_initialized is deprecated. Please use tf.compat.v1.is_variable_initialized instead.\n",
            "\n",
            "WARNING:tensorflow:From /usr/local/lib/python3.6/dist-packages/keras/backend/tensorflow_backend.py:223: The name tf.variables_initializer is deprecated. Please use tf.compat.v1.variables_initializer instead.\n",
            "\n",
            "160203/160203 [==============================] - 242s 2ms/step - loss: 0.0489 - val_loss: 0.0299\n",
            "Epoch 2/5\n",
            "160203/160203 [==============================] - 242s 2ms/step - loss: 0.0272 - val_loss: 0.0299\n",
            "Epoch 3/5\n",
            "160203/160203 [==============================] - 245s 2ms/step - loss: 0.0272 - val_loss: 0.0299\n",
            "53402/53402 [==============================] - 1s 18us/step\n",
            "(array([[53303,     0],\n",
            "       [   99,     0]]), 0.0, 0.9981461368488072, 0.0, 0.0, array([0., 1.]), array([0., 1.]), array([1, 0], dtype=int32), 0.5)\n"
          ],
          "name": "stdout"
        },
        {
          "output_type": "stream",
          "text": [
            "/usr/local/lib/python3.6/dist-packages/sklearn/metrics/classification.py:1437: UndefinedMetricWarning: Precision is ill-defined and being set to 0.0 due to no predicted samples.\n",
            "  'precision', 'predicted', average, warn_for)\n",
            "/usr/local/lib/python3.6/dist-packages/sklearn/metrics/classification.py:1437: UndefinedMetricWarning: F-score is ill-defined and being set to 0.0 due to no predicted samples.\n",
            "  'precision', 'predicted', average, warn_for)\n"
          ],
          "name": "stderr"
        }
      ]
    },
    {
      "cell_type": "code",
      "metadata": {
        "id": "YZp3QE_mb5R3",
        "colab_type": "code",
        "outputId": "a9a71145-7283-49eb-9e7c-addf99c7f45e",
        "colab": {
          "base_uri": "https://localhost:8080/",
          "height": 138
        }
      },
      "source": [
        "X=df.drop(columns=['Class'])\n",
        "y=df['Class']\n",
        "\n",
        "cnf_matrixLog_reg,precisionLog_reg,accuracyLog_reg,f1Log_reg,recall_Log_reg,fprLog_reg,tprLog_reg,trashholdLog_reg,AUCLog_reg=Log_reg(X,y)\n",
        "cnf_matrixRF,precisionRF,accuracyRF,f1RF,recallRF,fprRF,tprRF,trashholdRF,AUCRF = Rand_forest(X,y)\n",
        "cnf_matrixKN,precisionKN,accuracyKN,f1KN,recallKN,fprKN,tprKN,trashholdKN,aucKN=KNeig(X,y)\n",
        "cnf_matrixSVC,precisionSVC,accuracySVC,f1SVC,recallSVC,fprSVc,tprSVc,trashholdSVc,aucSVC=SVC_(X,y)\n",
        "cnf_matrixXGB,precisionXGB,accuracyXGB,f1XGB,recallXGB,fprXGB,tprXGB,trashholdXGB,aucXGB=XGBoost_(X,y)"
      ],
      "execution_count": 0,
      "outputs": [
        {
          "output_type": "stream",
          "text": [
            "/usr/local/lib/python3.6/dist-packages/sklearn/linear_model/logistic.py:432: FutureWarning: Default solver will be changed to 'lbfgs' in 0.22. Specify a solver to silence this warning.\n",
            "  FutureWarning)\n",
            "/usr/local/lib/python3.6/dist-packages/sklearn/metrics/classification.py:1437: UndefinedMetricWarning: Precision is ill-defined and being set to 0.0 due to no predicted samples.\n",
            "  'precision', 'predicted', average, warn_for)\n",
            "/usr/local/lib/python3.6/dist-packages/sklearn/metrics/classification.py:1437: UndefinedMetricWarning: F-score is ill-defined and being set to 0.0 due to no predicted samples.\n",
            "  'precision', 'predicted', average, warn_for)\n"
          ],
          "name": "stderr"
        }
      ]
    },
    {
      "cell_type": "code",
      "metadata": {
        "id": "QsJ48W4npjh2",
        "colab_type": "code",
        "outputId": "a573eff3-d3bd-495a-d775-20742d7a4935",
        "colab": {
          "base_uri": "https://localhost:8080/",
          "height": 279
        }
      },
      "source": [
        "plt.plot(fprLog_reg,tprLog_reg,label=\"Logistic Regresion, auc=\"+str(AUCLog_reg))\n",
        "plt.plot(fprRF,tprRF,label=\"Random Forest, auc=\"+str(AUCRF))\n",
        "plt.plot(fprKN,tprKN,label=\"KNeighbours, auc=\"+str(aucKN))\n",
        "plt.plot(fprSVc,tprSVc,label=\"SVC, auc=\"+str(aucSVC))\n",
        "plt.plot(fprXGB,tprXGB,label=\"XGBoost, auc=\"+str(aucXGB))\n",
        "plt.legend(loc=4)\n",
        "\n",
        "plt.xlabel('FPR')\n",
        "plt.ylabel('TPR')\n",
        "plt.show()"
      ],
      "execution_count": 0,
      "outputs": [
        {
          "output_type": "display_data",
          "data": {
            "image/png": "[encoded data removed]",
            "text/plain": [
              "<Figure size 432x288 with 1 Axes>"
            ]
          },
          "metadata": {
            "tags": []
          }
        }
      ]
    }
  ]
}