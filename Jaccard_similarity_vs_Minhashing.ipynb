{
  "nbformat": 4,
  "nbformat_minor": 0,
  "metadata": {
    "colab": {
      "name": "Jaccard_similarity_vs_Minhashing.ipynb",
      "provenance": [],
      "authorship_tag": "ABX9TyMGtFIcaVkaP05XznKq31zW",
      "include_colab_link": true
    },
    "kernelspec": {
      "name": "python3",
      "display_name": "Python 3"
    }
  },
  "cells": [
    {
      "cell_type": "markdown",
      "metadata": {
        "id": "view-in-github",
        "colab_type": "text"
      },
      "source": [
        "<a href=\"https://colab.research.google.com/github/tomasz-soltysiak/Fraud_transaction/blob/master/Jaccard_similarity_vs_Minhashing.ipynb\" target=\"_parent\"><img src=\"https://colab.research.google.com/assets/colab-badge.svg\" alt=\"Open In Colab\"/></a>"
      ]
    },
    {
      "cell_type": "code",
      "metadata": {
        "colab": {
          "base_uri": "https://localhost:8080/"
        },
        "id": "0iEw9DQO6DaR",
        "outputId": "c46c5304-1041-43d4-e56f-a753ec2cd59d"
      },
      "source": [
        "import nltk\r\n",
        "#nltk.download('stopwords')\r\n",
        "from string import punctuation\r\n",
        "from nltk.corpus import stopwords\r\n",
        "#from sklearn.metrics import jaccard_score\r\n",
        "from nltk.stem.porter import PorterStemmer\r\n",
        "import numpy as np\r\n",
        "\r\n",
        "\r\n",
        "def pair(text):\r\n",
        "  with open(text,encoding=\"utf-8\") as f:\r\n",
        "    words=[word.lower().translate(str.maketrans('','',punctuation)) for line in f for word in line.split()]\r\n",
        "    f.close()\r\n",
        "  #english_stop=set(stopwords.words('english'))\r\n",
        "  #without_stopwords=[x for x in words if not x in english_stop]\r\n",
        "  return words\r\n",
        "\r\n",
        "  return words#without_stopwords\r\n",
        "\r\n",
        "def k_shingles(list):\r\n",
        "    shingles=[]\r\n",
        "    for i in range(len(list)-2):\r\n",
        "        shingles.append(str(list[i:i+3]))\r\n",
        "    return shingles\r\n",
        "\r\n",
        "def Jaccers(text1,text2):\r\n",
        "    a = pair(text1)\r\n",
        "    b = pair(text2)\r\n",
        "    shingles1 = k_shingles(a)\r\n",
        "    shingles2 = k_shingles(b)\r\n",
        "    all_shingles = shingles1 + shingles2\r\n",
        "    common = [x for x in shingles1 if x in shingles2]\r\n",
        "    #print(len(all_shingles))\r\n",
        "    #print(len(set(all_shingles)))\r\n",
        "    set_allshingle = len(set(all_shingles))\r\n",
        "    return  len(common)/set_allshingle\r\n",
        "\r\n",
        "file=[]\r\n",
        "a='Hamlet.txt'\r\n",
        "b='Makbet.txt'\r\n",
        "text1 = ['Alice_Wonderland.txt', 'Crime_and_punishment.txt',\r\n",
        "             'Hamlet.txt', 'Makbet.txt', 'Moby_Dick.txt', 'Prince.txt', 'Republic.txt', 'Resurraction.txt','Sherlock_Holmes.txt', 'War_and_Peace.txt']\r\n",
        "\r\n",
        "for i in range(len(text1)):\r\n",
        "    a=[text1[j] for j in range(len(text1)) if i<j]\r\n",
        "    for x in a:\r\n",
        "\r\n",
        "        output=Jaccers(text1[i],x)\r\n",
        "        file.append((text1[i],x,output))\r\n",
        "\r\n",
        "with open('Zad2.txt','w') as f:\r\n",
        "    for i in range(len(file)):\r\n",
        "        f.write(str(file[i])+'\\n')\r\n",
        "\r\n",
        "file\r\n",
        "\r\n"
      ],
      "execution_count": 17,
      "outputs": [
        {
          "output_type": "execute_result",
          "data": {
            "text/plain": [
              "[('Alice_Wonderland.txt', 'Crime_and_punishment.txt', 0.023245392121431153),\n",
              " ('Alice_Wonderland.txt', 'Hamlet.txt', 0.010131598624196202),\n",
              " ('Alice_Wonderland.txt', 'Makbet.txt', 0.0027526543452615023),\n",
              " ('Alice_Wonderland.txt', 'Moby_Dick.txt', 0.014718025938699178),\n",
              " ('Alice_Wonderland.txt', 'Prince.txt', 0.014373593398349588),\n",
              " ('Alice_Wonderland.txt', 'Republic.txt', 0.01071233877242102),\n",
              " ('Alice_Wonderland.txt', 'Resurraction.txt', 0.02386460489467917),\n",
              " ('Alice_Wonderland.txt', 'Sherlock_Holmes.txt', 0.02352909708538771),\n",
              " ('Alice_Wonderland.txt', 'War_and_Peace.txt', 0.014817713309855523),\n",
              " ('Crime_and_punishment.txt', 'Hamlet.txt', 0.024197567953243525),\n",
              " ('Crime_and_punishment.txt', 'Makbet.txt', 0.004696647480478533),\n",
              " ('Crime_and_punishment.txt', 'Moby_Dick.txt', 0.05373730869800787),\n",
              " ('Crime_and_punishment.txt', 'Prince.txt', 0.04114956721137976),\n",
              " ('Crime_and_punishment.txt', 'Republic.txt', 0.04978781148877506),\n",
              " ('Crime_and_punishment.txt', 'Resurraction.txt', 0.0859456614486559),\n",
              " ('Crime_and_punishment.txt', 'Sherlock_Holmes.txt', 0.08036007687481951),\n",
              " ('Crime_and_punishment.txt', 'War_and_Peace.txt', 0.07047219429753632),\n",
              " ('Hamlet.txt', 'Makbet.txt', 0.006910476623819816),\n",
              " ('Hamlet.txt', 'Moby_Dick.txt', 0.010066997201676671),\n",
              " ('Hamlet.txt', 'Prince.txt', 0.01162649053232814),\n",
              " ('Hamlet.txt', 'Republic.txt', 0.010436335799948966),\n",
              " ('Hamlet.txt', 'Resurraction.txt', 0.009226319595083153),\n",
              " ('Hamlet.txt', 'Sherlock_Holmes.txt', 0.01306138098889741),\n",
              " ('Hamlet.txt', 'War_and_Peace.txt', 0.006990961390155332),\n",
              " ('Makbet.txt', 'Moby_Dick.txt', 0.0013215142520229333),\n",
              " ('Makbet.txt', 'Prince.txt', 0.0021815188310351924),\n",
              " ('Makbet.txt', 'Republic.txt', 0.0014981579070092804),\n",
              " ('Makbet.txt', 'Resurraction.txt', 0.0013841064073999054),\n",
              " ('Makbet.txt', 'Sherlock_Holmes.txt', 0.0019959660475670224),\n",
              " ('Makbet.txt', 'War_and_Peace.txt', 0.000890996165534359),\n",
              " ('Moby_Dick.txt', 'Prince.txt', 0.03202524713014527),\n",
              " ('Moby_Dick.txt', 'Republic.txt', 0.041984330070963145),\n",
              " ('Moby_Dick.txt', 'Resurraction.txt', 0.04333883837645221),\n",
              " ('Moby_Dick.txt', 'Sherlock_Holmes.txt', 0.047526418169391724),\n",
              " ('Moby_Dick.txt', 'War_and_Peace.txt', 0.0375724434157423),\n",
              " ('Prince.txt', 'Republic.txt', 0.035325495055495586),\n",
              " ('Prince.txt', 'Resurraction.txt', 0.031319376217900353),\n",
              " ('Prince.txt', 'Sherlock_Holmes.txt', 0.03406701459798805),\n",
              " ('Prince.txt', 'War_and_Peace.txt', 0.022951439947028522),\n",
              " ('Republic.txt', 'Resurraction.txt', 0.0813464142965679),\n",
              " ('Republic.txt', 'Sherlock_Holmes.txt', 0.07946864699575076),\n",
              " ('Republic.txt', 'War_and_Peace.txt', 0.0711783114131779),\n",
              " ('Resurraction.txt', 'Sherlock_Holmes.txt', 0.08471214618795342),\n",
              " ('Resurraction.txt', 'War_and_Peace.txt', 0.09120925235067073),\n",
              " ('Sherlock_Holmes.txt', 'War_and_Peace.txt', 0.048901110176273827)]"
            ]
          },
          "metadata": {
            "tags": []
          },
          "execution_count": 17
        }
      ]
    },
    {
      "cell_type": "code",
      "metadata": {
        "colab": {
          "base_uri": "https://localhost:8080/"
        },
        "id": "LFUHim6yHk9e",
        "outputId": "16cd1953-3a81-49b8-b1a8-58a5950028b2"
      },
      "source": [
        "pip install murmurhash3"
      ],
      "execution_count": 2,
      "outputs": [
        {
          "output_type": "stream",
          "text": [
            "Collecting murmurhash3\n",
            "  Downloading https://files.pythonhosted.org/packages/b5/f4/1f9c4851667a2541bd151b8d9efef707495816274fada365fa6a31085a32/murmurhash3-2.3.5.tar.gz\n",
            "Building wheels for collected packages: murmurhash3\n",
            "  Building wheel for murmurhash3 (setup.py) ... \u001b[?25l\u001b[?25hdone\n",
            "  Created wheel for murmurhash3: filename=murmurhash3-2.3.5-cp36-cp36m-linux_x86_64.whl size=25336 sha256=b6b0864563d65e6bf408074a7ba77d53c3a420fc3cc2d2c1307a769a0f639c05\n",
            "  Stored in directory: /root/.cache/pip/wheels/06/eb/e4/f57324cd9c1bf001c9ba6d6926ad5231eca80964ed80b3610e\n",
            "Successfully built murmurhash3\n",
            "Installing collected packages: murmurhash3\n",
            "Successfully installed murmurhash3-2.3.5\n"
          ],
          "name": "stdout"
        }
      ]
    },
    {
      "cell_type": "markdown",
      "metadata": {
        "id": "SjXngvvv6NJa"
      },
      "source": [
        "Minhashing"
      ]
    },
    {
      "cell_type": "code",
      "metadata": {
        "id": "vk1-gTs36O6C"
      },
      "source": [
        "import mmh3\r\n",
        "import random\r\n",
        "import nltk\r\n",
        "#nltk.download('stopwords')\r\n",
        "from string import punctuation\r\n",
        "from nltk.corpus import stopwords\r\n",
        "#from sklearn.metrics import jaccard_score\r\n",
        "from nltk.stem.porter import PorterStemmer\r\n",
        "import numpy as np\r\n",
        "seed_values=random.sample(range(5000), 100)\r\n",
        "def pair(text):\r\n",
        "  with open(text,encoding=\"utf-8\") as f:\r\n",
        "    words=[word.lower().translate(str.maketrans('','',punctuation)) for line in f for word in line.split()]\r\n",
        "    f.close()\r\n",
        "  #english_stop=set(stopwords.words('english'))\r\n",
        "  #without_stopwords=[x for x in words if not x in english_stop]\r\n",
        "  return words\r\n",
        "def k_shingles(list):\r\n",
        "    shingles=[]\r\n",
        "    for i in range(len(list)-2):\r\n",
        "        shingles.append(str(list[i:i+3]))\r\n",
        "    return shingles\r\n",
        "def make_signature(shingles_list, seed_values):\r\n",
        "    signature=[min([mmh3.hash(shingle, seed) for shingle in shingles_list]) for seed in seed_values]\r\n",
        "    return signature\r\n",
        "def calculate_similarity(signature1, signature2):\r\n",
        "    m=len(signature1)\r\n",
        "    sim=[1 for i in range(m) if signature1[i]==signature2[i]]\r\n",
        "    return sum(sim)/m\r\n",
        "def run(t1,t2):\r\n",
        "  p1=k_shingles(pair(t1))\r\n",
        "  p2=k_shingles(pair(t2))\r\n",
        "  s1=make_signature(p1,seed_values)\r\n",
        "  s2=make_signature(p2,seed_values)\r\n",
        "  return calculate_similarity(s1,s2)\r\n"
      ],
      "execution_count": 11,
      "outputs": []
    },
    {
      "cell_type": "code",
      "metadata": {
        "colab": {
          "base_uri": "https://localhost:8080/"
        },
        "id": "VsPYYSaZ6Tvq",
        "outputId": "2d990c9d-b045-47d3-a064-3e2b9c9f7286"
      },
      "source": [
        "file=[]\r\n",
        "text1 = ['Alice_Wonderland.txt', 'Crime_and_punishment.txt',\r\n",
        "           'Hamlet.txt', 'Makbet.txt', 'Moby_Dick.txt', 'Prince.txt', 'Republic.txt', 'Resurraction.txt','Sherlock_Holmes.txt', 'War_and_Peace.txt']\r\n",
        "for i in range(len(text1)):\r\n",
        "    a=[text1[j] for j in range(len(text1)) if i<j]\r\n",
        "    for x in a:\r\n",
        "\r\n",
        "        output=run(text1[i],x)\r\n",
        "        file.append((text1[i],x,output))\r\n",
        "file"
      ],
      "execution_count": 14,
      "outputs": [
        {
          "output_type": "execute_result",
          "data": {
            "text/plain": [
              "[('Alice_Wonderland.txt', 'Crime_and_punishment.txt', 0.0),\n",
              " ('Alice_Wonderland.txt', 'Hamlet.txt', 0.0),\n",
              " ('Alice_Wonderland.txt', 'Makbet.txt', 0.0),\n",
              " ('Alice_Wonderland.txt', 'Moby_Dick.txt', 0.02),\n",
              " ('Alice_Wonderland.txt', 'Prince.txt', 0.02),\n",
              " ('Alice_Wonderland.txt', 'Republic.txt', 0.01),\n",
              " ('Alice_Wonderland.txt', 'Resurraction.txt', 0.03),\n",
              " ('Alice_Wonderland.txt', 'Sherlock_Holmes.txt', 0.01),\n",
              " ('Alice_Wonderland.txt', 'War_and_Peace.txt', 0.02),\n",
              " ('Crime_and_punishment.txt', 'Hamlet.txt', 0.0),\n",
              " ('Crime_and_punishment.txt', 'Makbet.txt', 0.0),\n",
              " ('Crime_and_punishment.txt', 'Moby_Dick.txt', 0.0),\n",
              " ('Crime_and_punishment.txt', 'Prince.txt', 0.01),\n",
              " ('Crime_and_punishment.txt', 'Republic.txt', 0.0),\n",
              " ('Crime_and_punishment.txt', 'Resurraction.txt', 0.0),\n",
              " ('Crime_and_punishment.txt', 'Sherlock_Holmes.txt', 0.01),\n",
              " ('Crime_and_punishment.txt', 'War_and_Peace.txt', 0.02),\n",
              " ('Hamlet.txt', 'Makbet.txt', 0.01),\n",
              " ('Hamlet.txt', 'Moby_Dick.txt', 0.0),\n",
              " ('Hamlet.txt', 'Prince.txt', 0.0),\n",
              " ('Hamlet.txt', 'Republic.txt', 0.0),\n",
              " ('Hamlet.txt', 'Resurraction.txt', 0.01),\n",
              " ('Hamlet.txt', 'Sherlock_Holmes.txt', 0.0),\n",
              " ('Hamlet.txt', 'War_and_Peace.txt', 0.0),\n",
              " ('Makbet.txt', 'Moby_Dick.txt', 0.0),\n",
              " ('Makbet.txt', 'Prince.txt', 0.0),\n",
              " ('Makbet.txt', 'Republic.txt', 0.0),\n",
              " ('Makbet.txt', 'Resurraction.txt', 0.0),\n",
              " ('Makbet.txt', 'Sherlock_Holmes.txt', 0.0),\n",
              " ('Makbet.txt', 'War_and_Peace.txt', 0.0),\n",
              " ('Moby_Dick.txt', 'Prince.txt', 0.02),\n",
              " ('Moby_Dick.txt', 'Republic.txt', 0.01),\n",
              " ('Moby_Dick.txt', 'Resurraction.txt', 0.03),\n",
              " ('Moby_Dick.txt', 'Sherlock_Holmes.txt', 0.04),\n",
              " ('Moby_Dick.txt', 'War_and_Peace.txt', 0.05),\n",
              " ('Prince.txt', 'Republic.txt', 0.04),\n",
              " ('Prince.txt', 'Resurraction.txt', 0.02),\n",
              " ('Prince.txt', 'Sherlock_Holmes.txt', 0.02),\n",
              " ('Prince.txt', 'War_and_Peace.txt', 0.02),\n",
              " ('Republic.txt', 'Resurraction.txt', 0.01),\n",
              " ('Republic.txt', 'Sherlock_Holmes.txt', 0.01),\n",
              " ('Republic.txt', 'War_and_Peace.txt', 0.06),\n",
              " ('Resurraction.txt', 'Sherlock_Holmes.txt', 0.02),\n",
              " ('Resurraction.txt', 'War_and_Peace.txt', 0.05),\n",
              " ('Sherlock_Holmes.txt', 'War_and_Peace.txt', 0.06)]"
            ]
          },
          "metadata": {
            "tags": []
          },
          "execution_count": 14
        }
      ]
    }
  ]
}