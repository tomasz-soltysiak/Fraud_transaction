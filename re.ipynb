{
  "nbformat": 4,
  "nbformat_minor": 0,
  "metadata": {
    "colab": {
      "name": "re.ipynb",
      "provenance": [],
      "authorship_tag": "ABX9TyN+jWShJWfwZHrRFlNH+X3o",
      "include_colab_link": true
    },
    "kernelspec": {
      "name": "python3",
      "display_name": "Python 3"
    }
  },
  "cells": [
    {
      "cell_type": "markdown",
      "metadata": {
        "id": "view-in-github",
        "colab_type": "text"
      },
      "source": [
        "<a href=\"https://colab.research.google.com/github/tomasz-soltysiak/Fraud_transaction/blob/master/re.ipynb\" target=\"_parent\"><img src=\"https://colab.research.google.com/assets/colab-badge.svg\" alt=\"Open In Colab\"/></a>"
      ]
    },
    {
      "cell_type": "code",
      "metadata": {
        "id": "mU0py7mioPNm",
        "colab_type": "code",
        "colab": {
          "base_uri": "https://localhost:8080/",
          "height": 34
        },
        "outputId": "db712e1c-cfb5-496e-d4c9-6394b555ff43"
      },
      "source": [
        "import re\n",
        "pattern = r\"Cookie\"\n",
        "sequence = \"Cookie\"\n",
        "if re.match(pattern, sequence):\n",
        "  print(\"Match!\")\n",
        "else: \n",
        "  print(\"Not a match!\")"
      ],
      "execution_count": 1,
      "outputs": [
        {
          "output_type": "stream",
          "text": [
            "Match!\n"
          ],
          "name": "stdout"
        }
      ]
    },
    {
      "cell_type": "code",
      "metadata": {
        "id": "s91c5bcvoRro",
        "colab_type": "code",
        "colab": {
          "base_uri": "https://localhost:8080/",
          "height": 34
        },
        "outputId": "4390551b-663c-48db-c788-083a998eea7d"
      },
      "source": [
        "re.search(r'Co\\Wk\\we', 'Co@kie').group()"
      ],
      "execution_count": 6,
      "outputs": [
        {
          "output_type": "execute_result",
          "data": {
            "text/plain": [
              "'Co@kie'"
            ]
          },
          "metadata": {
            "tags": []
          },
          "execution_count": 6
        }
      ]
    },
    {
      "cell_type": "code",
      "metadata": {
        "id": "c2xKoZfSp86d",
        "colab_type": "code",
        "colab": {}
      },
      "source": [
        "pattern = \"C\"\n",
        "sequence1 = \"IceCream\"\n",
        "\n",
        "# No match since \"C\" is not at the start of \"IceCream\"\n",
        "re.match(pattern, sequence1)"
      ],
      "execution_count": 0,
      "outputs": []
    },
    {
      "cell_type": "code",
      "metadata": {
        "id": "BP0kDemipasP",
        "colab_type": "code",
        "colab": {
          "base_uri": "https://localhost:8080/",
          "height": 34
        },
        "outputId": "ce6d47ee-ae6e-476f-c191-eb541b0a50ca"
      },
      "source": [
        "sequence2 = \"Cake\"\n",
        "\n",
        "re.match(pattern,sequence2).group()"
      ],
      "execution_count": 8,
      "outputs": [
        {
          "output_type": "execute_result",
          "data": {
            "text/plain": [
              "'C'"
            ]
          },
          "metadata": {
            "tags": []
          },
          "execution_count": 8
        }
      ]
    },
    {
      "cell_type": "code",
      "metadata": {
        "id": "oidSG6ojqDGo",
        "colab_type": "code",
        "colab": {
          "base_uri": "https://localhost:8080/",
          "height": 34
        },
        "outputId": "0bf5650c-832e-4c63-c323-d5086f5163e5"
      },
      "source": [
        "re.search(r'Eat\\scake', 'Eat cake').group() #\\s matches white spaces"
      ],
      "execution_count": 13,
      "outputs": [
        {
          "output_type": "execute_result",
          "data": {
            "text/plain": [
              "'Eat cake'"
            ]
          },
          "metadata": {
            "tags": []
          },
          "execution_count": 13
        }
      ]
    },
    {
      "cell_type": "code",
      "metadata": {
        "id": "8PVYVt2HqlPY",
        "colab_type": "code",
        "colab": {
          "base_uri": "https://localhost:8080/",
          "height": 34
        },
        "outputId": "ca77840d-88e9-4aec-c958-a7c0c72de205"
      },
      "source": [
        "re.search(r'Cook\\Se', 'Cookie').group()"
      ],
      "execution_count": 16,
      "outputs": [
        {
          "output_type": "execute_result",
          "data": {
            "text/plain": [
              "'Cookie'"
            ]
          },
          "metadata": {
            "tags": []
          },
          "execution_count": 16
        }
      ]
    },
    {
      "cell_type": "code",
      "metadata": {
        "id": "AUJCrWALs0Kc",
        "colab_type": "code",
        "colab": {}
      },
      "source": [
        ""
      ],
      "execution_count": 0,
      "outputs": []
    }
  ]
}