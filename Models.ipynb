{
  "nbformat": 4,
  "nbformat_minor": 0,
  "metadata": {
    "colab": {
      "name": "Untitled",
      "provenance": [],
      "include_colab_link": true
    },
    "kernelspec": {
      "name": "python3",
      "display_name": "Python 3"
    }
  },
  "cells": [
    {
      "cell_type": "markdown",
      "metadata": {
        "id": "view-in-github",
        "colab_type": "text"
      },
      "source": [
        "<a href=\"https://colab.research.google.com/github/tomasz-soltysiak/Fraud_transaction/blob/master/Models.ipynb\" target=\"_parent\"><img src=\"https://colab.research.google.com/assets/colab-badge.svg\" alt=\"Open In Colab\"/></a>"
      ]
    },
    {
      "cell_type": "code",
      "metadata": {
        "id": "pb0Uu15jdayw",
        "colab_type": "code",
        "colab": {}
      },
      "source": [
        "import pandas as pd\n",
        "import numpy as np\n",
        "from sklearn.linear_model import LogisticRegression\n",
        "from sklearn.cluster import KMeans\n",
        "from sklearn.ensemble import RandomForestClassifier\n",
        "from sklearn.neighbors import KNeighborsClassifier\n",
        "from sklearn.svm import SVC\n",
        "from sklearn.model_selection import GridSearchCV\n",
        "from xgboost import XGBClassifier\n",
        "from mlxtend.classifier import EnsembleVoteClassifier\n",
        "from sklearn.preprocessing import StandardScaler\n"
      ],
      "execution_count": 0,
      "outputs": []
    },
    {
      "cell_type": "code",
      "metadata": {
        "id": "i0Fz_4DWb4Vq",
        "colab_type": "code",
        "colab": {}
      },
      "source": [
        "def performance_of_models(x, y, list_of_models):\n",
        "    results = [model_summary(model, x, y) for model in list_of_models]\n",
        "    results = pd.DataFrame(results)\n",
        "    return results"
      ],
      "execution_count": 0,
      "outputs": []
    },
    {
      "cell_type": "code",
      "metadata": {
        "id": "asyDwFxlbv04",
        "colab_type": "code",
        "colab": {}
      },
      "source": [
        "def model_summary(model, x, y):\n",
        "  \n",
        "  y_pred=model.predict(x)\n",
        "\n",
        "  cnf_matrix = confusion_matrix(y_test, y_pred)\n",
        "  precision=precision_score(y_test,y_pred)\n",
        "  accuracy=accuracy_score(y_test,y_pred)\n",
        "  recall=recall_score(y_test,y_pred)\n",
        "  f1=f1_score(y_test,y_pred)\n",
        "  auc=roc_auc_score(y_test, y_pred)\n",
        "  fpr, tpr, trashhold = roc_curve(y_test,  y_pred)\n",
        "\n",
        "  result = {'model': str(model),\n",
        "            'confusion matrix': cnf_matrix,\n",
        "            'precision': precision,\n",
        "            'accuracy': accuracy,\n",
        "            'recall': recall,\n",
        "            'f1 score': f1,\n",
        "            'auc': auc,\n",
        "            'fpr': fpr,\n",
        "            'tpr': tpr,\n",
        "            'trashhold': trashhold,\n",
        "               })\n",
        "\n",
        "  return result"
      ],
      "execution_count": 0,
      "outputs": []
    },
    {
      "cell_type": "code",
      "metadata": {
        "id": "dkVbpwl2dRS4",
        "colab_type": "code",
        "colab": {}
      },
      "source": [
        "def Log_reg(X,y):\n",
        "  log_reg=LogisticRegression()\n",
        "  penalty=['l1','l2']\n",
        "  C=np.logspace(0,4,20)\n",
        "  hyperpara=dict(penalty=penalty,C=C)\n",
        "  gridsearch=GridSearchCV(log_reg,hyperpara)\n",
        "\n",
        "  return gridsearch.fit(X_train,y_train)"
      ],
      "execution_count": 0,
      "outputs": []
    },
    {
      "cell_type": "code",
      "metadata": {
        "id": "sd3qK4dselCp",
        "colab_type": "code",
        "colab": {}
      },
      "source": [
        "def Rand_forest(X,y):\n",
        "  RF=RandomForestClassifier(n_estimators=150)\n",
        "  n_estimators=np.arange(1,20,1)\n",
        "  criterion=['gini','entropy']\n",
        "  \n",
        "  hyperpara=dict(n_estimators=n_estimators,criterion=criterion)\n",
        "  gridsearch=GridSearchCV(RF,hyperpara)\n",
        "\n",
        "  return gridsearch.fit(X_train,y_train)"
      ],
      "execution_count": 0,
      "outputs": []
    },
    {
      "cell_type": "code",
      "metadata": {
        "id": "kthmXMzmfJqF",
        "colab_type": "code",
        "colab": {}
      },
      "source": [
        "def KNeig(X,y):\n",
        "  Kneig=KNeighborsClassifier(n_neighbors=5)\n",
        "  n_neighbors=np.arange(1,20,1)\n",
        "  weights=['uniform','distance']\n",
        "  algorithm=['auto', 'ball_tree', 'kd_tree', 'brute']\n",
        "  hyperpara=dict(n_neighbors=n_neighbors,weights=weights,algorithm=algorithm)\n",
        "  gridsearch=GridSearchCV(Kneig,hyperpara)\n",
        "\n",
        "  return gridsearch.fit(X_train,y_train)  "
      ],
      "execution_count": 0,
      "outputs": []
    },
    {
      "cell_type": "code",
      "metadata": {
        "id": "OJ27tILDfmca",
        "colab_type": "code",
        "colab": {}
      },
      "source": [
        "def XGBoost_(X,y):\n",
        "  xgb=XGBClassifier()\n",
        "  n_estimators=np.arange(1,20,1)\n",
        "  silent=[True,False]\n",
        "  max_depth=np.arange(1,20,1)\n",
        "  hyperpara=dict(n_estimators=n_estimators,silent=silent,max_depth=max_depth)\n",
        "\n",
        "  return GridSearchCV(xgb,hyperpara).fit(X,y)"
      ],
      "execution_count": 0,
      "outputs": []
    },
    {
      "cell_type": "code",
      "metadata": {
        "id": "djYnGMTygivV",
        "colab_type": "code",
        "colab": {}
      },
      "source": [
        "def SVC_(X,y):\n",
        "  \n",
        "  Sscaler=StandardScaler()\n",
        "  X=Sscaler.fit_transform(X)\n",
        "  svc=SVC(kernel='rbf',random_state=0,gamma=1,C=1)\n",
        "  C=np.arange(1,10,10.5)\n",
        "  kernel=['linear', 'poly', 'rbf', 'sigmoid', 'precomputed']\n",
        "  hyperpara=dict()\n",
        "  return GridSearchCV(svc,hyperpara).fit(X,y)"
      ],
      "execution_count": 0,
      "outputs": []
    },
    {
      "cell_type": "markdown",
      "metadata": {
        "id": "MDVUJapIlXIR",
        "colab_type": "text"
      },
      "source": [
        "About optimizer\n",
        "https://scikit-optimize.github.io/?fbclid=IwAR3m_0Um5EQ2v64DfXeSHmRPA8jBTu6inXHe8dFhOHMUDHBid-NpiH_8TH8"
      ]
    }
  ]
}