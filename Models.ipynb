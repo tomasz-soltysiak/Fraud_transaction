{
  "nbformat": 4,
  "nbformat_minor": 0,
  "metadata": {
    "colab": {
      "name": "Untitled",
      "provenance": [],
      "include_colab_link": true
    },
    "kernelspec": {
      "name": "python3",
      "display_name": "Python 3"
    }
  },
  "cells": [
    {
      "cell_type": "markdown",
      "metadata": {
        "id": "view-in-github",
        "colab_type": "text"
      },
      "source": [
        "<a href=\"https://colab.research.google.com/github/tomasz-soltysiak/Fraud_transaction/blob/master/Models.ipynb\" target=\"_parent\"><img src=\"https://colab.research.google.com/assets/colab-badge.svg\" alt=\"Open In Colab\"/></a>"
      ]
    },
    {
      "cell_type": "code",
      "metadata": {
        "id": "i0Fz_4DWb4Vq",
        "colab_type": "code",
        "colab": {}
      },
      "source": [
        "def performance_of_models(x, y, list_of_models):\n",
        "    results = [model_summary(model, x, y) for model in list_of_models]\n",
        "    results = pd.DataFrame(results)\n",
        "    return results"
      ],
      "execution_count": 0,
      "outputs": []
    },
    {
      "cell_type": "code",
      "metadata": {
        "id": "asyDwFxlbv04",
        "colab_type": "code",
        "colab": {}
      },
      "source": [
        "def model_summary(model, x, y):\n",
        "  \n",
        "  y_pred=model.predict(x)\n",
        "\n",
        "  cnf_matrix = confusion_matrix(y_test, y_pred)\n",
        "  precision=precision_score(y_test,y_pred)\n",
        "  accuracy=accuracy_score(y_test,y_pred)\n",
        "  recall=recall_score(y_test,y_pred)\n",
        "  f1=f1_score(y_test,y_pred)\n",
        "  auc=roc_auc_score(y_test, y_pred)\n",
        "  fpr, tpr, trashhold = roc_curve(y_test,  y_pred)\n",
        "\n",
        "  result = {'model': str(model),\n",
        "            'confusion matrix': cnf_matrix,\n",
        "            'precision': precision,\n",
        "            'accuracy': accuracy,\n",
        "            'recall': recall,\n",
        "            'f1 score': f1,\n",
        "            'auc': auc,\n",
        "            'fpr': fpr,\n",
        "            'tpr': tpr,\n",
        "            'trashhold': trashhold,\n",
        "               })\n",
        "\n",
        "  return result"
      ],
      "execution_count": 0,
      "outputs": []
    },
    {
      "cell_type": "markdown",
      "metadata": {
        "id": "MDVUJapIlXIR",
        "colab_type": "text"
      },
      "source": [
        "About optimizer\n",
        "https://scikit-optimize.github.io/?fbclid=IwAR3m_0Um5EQ2v64DfXeSHmRPA8jBTu6inXHe8dFhOHMUDHBid-NpiH_8TH8"
      ]
    }
  ]
}