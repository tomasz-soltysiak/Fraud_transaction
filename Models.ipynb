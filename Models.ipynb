{
  "nbformat": 4,
  "nbformat_minor": 0,
  "metadata": {
    "colab": {
      "name": "Untitled",
      "provenance": [],
      "include_colab_link": true
    },
    "kernelspec": {
      "name": "python3",
      "display_name": "Python 3"
    }
  },
  "cells": [
    {
      "cell_type": "markdown",
      "metadata": {
        "id": "view-in-github",
        "colab_type": "text"
      },
      "source": [
        "<a href=\"https://colab.research.google.com/github/tomasz-soltysiak/Fraud_transaction/blob/master/Models.ipynb\" target=\"_parent\"><img src=\"https://colab.research.google.com/assets/colab-badge.svg\" alt=\"Open In Colab\"/></a>"
      ]
    },
    {
      "cell_type": "code",
      "metadata": {
        "id": "5H4CLgFcbmHt",
        "colab_type": "code",
        "colab": {}
      },
      "source": [
        "def performance_of_models(x, y, *args):\n",
        "    results = [model_summary(model, x, y) for model in list(model, model, model)]"
      ],
      "execution_count": 0,
      "outputs": []
    },
    {
      "cell_type": "code",
      "metadata": {
        "id": "asyDwFxlbv04",
        "colab_type": "code",
        "colab": {}
      },
      "source": [
        "def model_summary(model, x, y):\n",
        "  result dict({'metryka': 'wartość',\n",
        "               'm'})"
      ],
      "execution_count": 0,
      "outputs": []
    },
    {
      "cell_type": "code",
      "metadata": {
        "id": "nSLYHHVXcVNS",
        "colab_type": "code",
        "colab": {}
      },
      "source": [
        "https://scikit-optimize.github.io/?fbclid=IwAR3m_0Um5EQ2v64DfXeSHmRPA8jBTu6inXHe8dFhOHMUDHBid-NpiH_8TH8"
      ],
      "execution_count": 0,
      "outputs": []
    }
  ]
}