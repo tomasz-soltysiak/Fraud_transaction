{
  "nbformat": 4,
  "nbformat_minor": 0,
  "metadata": {
    "colab": {
      "name": "Untitled",
      "provenance": [],
      "include_colab_link": true
    },
    "kernelspec": {
      "name": "python3",
      "display_name": "Python 3"
    }
  },
  "cells": [
    {
      "cell_type": "markdown",
      "metadata": {
        "id": "view-in-github",
        "colab_type": "text"
      },
      "source": [
        "<a href=\"https://colab.research.google.com/github/tomasz-soltysiak/Fraud_transaction/blob/master/Performance.ipynb\" target=\"_parent\"><img src=\"https://colab.research.google.com/assets/colab-badge.svg\" alt=\"Open In Colab\"/></a>"
      ]
    },
    {
      "cell_type": "code",
      "metadata": {
        "id": "pb0Uu15jdayw",
        "colab_type": "code",
        "colab": {
          "base_uri": "https://localhost:8080/",
          "height": 34
        },
        "outputId": "b2e5a743-8ded-4743-b522-ae53a2a9b5e0"
      },
      "source": [
        "import pandas as pd\n",
        "import numpy as np\n",
        "from sklearn.linear_model import LogisticRegression\n",
        "from sklearn.cluster import KMeans\n",
        "from sklearn.ensemble import RandomForestClassifier\n",
        "from sklearn.neighbors import KNeighborsClassifier\n",
        "from sklearn.svm import SVC\n",
        "from sklearn.model_selection import GridSearchCV\n",
        "from xgboost import XGBClassifier\n",
        "from mlxtend.classifier import EnsembleVoteClassifier\n",
        "from sklearn.preprocessing import StandardScaler\n",
        "from sklearn.preprocessing import RobustScaler\n",
        "! pip install joblib\n",
        "from joblib import dump, load"
      ],
      "execution_count": 11,
      "outputs": [
        {
          "output_type": "stream",
          "text": [
            "Requirement already satisfied: joblib in /usr/local/lib/python3.6/dist-packages (0.14.0)\n"
          ],
          "name": "stdout"
        }
      ]
    },
    {
      "cell_type": "code",
      "metadata": {
        "id": "EkQlPPr3qdDo",
        "colab_type": "code",
        "colab": {
          "base_uri": "https://localhost:8080/",
          "height": 122
        },
        "outputId": "2c3246ff-5f2b-4a48-d16f-2b756eda9a2f"
      },
      "source": [
        "from google.colab import drive\n",
        "drive.mount('/content/drive')"
      ],
      "execution_count": 1,
      "outputs": [
        {
          "output_type": "stream",
          "text": [
            "Go to this URL in a browser: https://accounts.google.com/o/oauth2/auth?client_id=947318989803-6bn6qk8qdgf4n4g3pfee6491hc0brc4i.apps.googleusercontent.com&redirect_uri=urn%3aietf%3awg%3aoauth%3a2.0%3aoob&response_type=code&scope=email%20https%3a%2f%2fwww.googleapis.com%2fauth%2fdocs.test%20https%3a%2f%2fwww.googleapis.com%2fauth%2fdrive%20https%3a%2f%2fwww.googleapis.com%2fauth%2fdrive.photos.readonly%20https%3a%2f%2fwww.googleapis.com%2fauth%2fpeopleapi.readonly\n",
            "\n",
            "Enter your authorization code:\n",
            "··········\n",
            "Mounted at /content/drive\n"
          ],
          "name": "stdout"
        }
      ]
    },
    {
      "cell_type": "code",
      "metadata": {
        "id": "NtRr7q_lqY2p",
        "colab_type": "code",
        "colab": {
          "base_uri": "https://localhost:8080/",
          "height": 224
        },
        "outputId": "d5ec10bc-efde-437a-f299-e01c2798c19d"
      },
      "source": [
        "df = pd.read_csv('/content/drive/My Drive/Data Science/ML fraud detection/test.csv')\n",
        "df['scaled_time']=round((df['Time']/3600)%24)\n",
        "Rob_scaler = RobustScaler()\n",
        "df['scaled_Amount']=Rob_scaler.fit_transform(df['Amount'].values.reshape(-1,1))\n",
        "df = df.drop(['Time','Amount'],axis=1)\n",
        "X_test = df_unsmpl.drop(columns=['Class'])\n",
        "y_test = df_unsmpl['Class']"
      ],
      "execution_count": 8,
      "outputs": [
        {
          "output_type": "execute_result",
          "data": {
            "text/html": [
              "<div>\n",
              "<style scoped>\n",
              "    .dataframe tbody tr th:only-of-type {\n",
              "        vertical-align: middle;\n",
              "    }\n",
              "\n",
              "    .dataframe tbody tr th {\n",
              "        vertical-align: top;\n",
              "    }\n",
              "\n",
              "    .dataframe thead th {\n",
              "        text-align: right;\n",
              "    }\n",
              "</style>\n",
              "<table border=\"1\" class=\"dataframe\">\n",
              "  <thead>\n",
              "    <tr style=\"text-align: right;\">\n",
              "      <th></th>\n",
              "      <th>V1</th>\n",
              "      <th>V2</th>\n",
              "      <th>V3</th>\n",
              "      <th>V4</th>\n",
              "      <th>V5</th>\n",
              "      <th>V6</th>\n",
              "      <th>V7</th>\n",
              "      <th>V8</th>\n",
              "      <th>V9</th>\n",
              "      <th>V10</th>\n",
              "      <th>V11</th>\n",
              "      <th>V12</th>\n",
              "      <th>V13</th>\n",
              "      <th>V14</th>\n",
              "      <th>V15</th>\n",
              "      <th>V16</th>\n",
              "      <th>V17</th>\n",
              "      <th>V18</th>\n",
              "      <th>V19</th>\n",
              "      <th>V20</th>\n",
              "      <th>V21</th>\n",
              "      <th>V22</th>\n",
              "      <th>V23</th>\n",
              "      <th>V24</th>\n",
              "      <th>V25</th>\n",
              "      <th>V26</th>\n",
              "      <th>V27</th>\n",
              "      <th>V28</th>\n",
              "      <th>Class</th>\n",
              "      <th>scaled_time</th>\n",
              "      <th>scaled_Amount</th>\n",
              "    </tr>\n",
              "  </thead>\n",
              "  <tbody>\n",
              "    <tr>\n",
              "      <th>0</th>\n",
              "      <td>-1.012125</td>\n",
              "      <td>1.109470</td>\n",
              "      <td>1.191549</td>\n",
              "      <td>0.976607</td>\n",
              "      <td>0.598767</td>\n",
              "      <td>0.875509</td>\n",
              "      <td>0.645614</td>\n",
              "      <td>0.103644</td>\n",
              "      <td>-0.526417</td>\n",
              "      <td>0.308405</td>\n",
              "      <td>0.706315</td>\n",
              "      <td>1.178879</td>\n",
              "      <td>1.001696</td>\n",
              "      <td>-0.170088</td>\n",
              "      <td>-0.463519</td>\n",
              "      <td>-0.892916</td>\n",
              "      <td>0.060287</td>\n",
              "      <td>-0.126797</td>\n",
              "      <td>1.313719</td>\n",
              "      <td>0.142340</td>\n",
              "      <td>-0.017515</td>\n",
              "      <td>0.251748</td>\n",
              "      <td>-0.350684</td>\n",
              "      <td>-0.606705</td>\n",
              "      <td>0.250508</td>\n",
              "      <td>-0.188999</td>\n",
              "      <td>0.001687</td>\n",
              "      <td>0.208664</td>\n",
              "      <td>0</td>\n",
              "      <td>9.0</td>\n",
              "      <td>0.302445</td>\n",
              "    </tr>\n",
              "    <tr>\n",
              "      <th>1</th>\n",
              "      <td>1.448939</td>\n",
              "      <td>4.273507</td>\n",
              "      <td>-1.548240</td>\n",
              "      <td>-1.952859</td>\n",
              "      <td>-6.592263</td>\n",
              "      <td>4.376110</td>\n",
              "      <td>8.300058</td>\n",
              "      <td>-1.547329</td>\n",
              "      <td>-0.288750</td>\n",
              "      <td>-1.311896</td>\n",
              "      <td>-0.818002</td>\n",
              "      <td>-0.842035</td>\n",
              "      <td>-0.427202</td>\n",
              "      <td>-0.189176</td>\n",
              "      <td>-0.117341</td>\n",
              "      <td>0.071771</td>\n",
              "      <td>-0.648537</td>\n",
              "      <td>-0.660048</td>\n",
              "      <td>0.194577</td>\n",
              "      <td>-2.500785</td>\n",
              "      <td>-1.099562</td>\n",
              "      <td>0.410840</td>\n",
              "      <td>0.486197</td>\n",
              "      <td>0.703868</td>\n",
              "      <td>0.225025</td>\n",
              "      <td>0.072912</td>\n",
              "      <td>2.340472</td>\n",
              "      <td>-0.524661</td>\n",
              "      <td>0</td>\n",
              "      <td>18.0</td>\n",
              "      <td>23.274660</td>\n",
              "    </tr>\n",
              "    <tr>\n",
              "      <th>2</th>\n",
              "      <td>2.330645</td>\n",
              "      <td>-1.347129</td>\n",
              "      <td>-1.443562</td>\n",
              "      <td>-1.926654</td>\n",
              "      <td>-0.494203</td>\n",
              "      <td>0.247301</td>\n",
              "      <td>-1.102912</td>\n",
              "      <td>-0.051696</td>\n",
              "      <td>-1.555162</td>\n",
              "      <td>1.720018</td>\n",
              "      <td>-0.102880</td>\n",
              "      <td>-0.058413</td>\n",
              "      <td>1.285820</td>\n",
              "      <td>-0.420180</td>\n",
              "      <td>-0.889505</td>\n",
              "      <td>-0.145701</td>\n",
              "      <td>-0.165172</td>\n",
              "      <td>0.615130</td>\n",
              "      <td>0.547909</td>\n",
              "      <td>-0.313095</td>\n",
              "      <td>-0.178339</td>\n",
              "      <td>-0.025841</td>\n",
              "      <td>0.112698</td>\n",
              "      <td>-0.294549</td>\n",
              "      <td>-0.018186</td>\n",
              "      <td>-0.154081</td>\n",
              "      <td>0.002918</td>\n",
              "      <td>-0.062307</td>\n",
              "      <td>0</td>\n",
              "      <td>12.0</td>\n",
              "      <td>-0.027785</td>\n",
              "    </tr>\n",
              "    <tr>\n",
              "      <th>3</th>\n",
              "      <td>-0.877970</td>\n",
              "      <td>1.107000</td>\n",
              "      <td>0.855221</td>\n",
              "      <td>0.712280</td>\n",
              "      <td>0.284493</td>\n",
              "      <td>-0.409462</td>\n",
              "      <td>0.418792</td>\n",
              "      <td>0.218775</td>\n",
              "      <td>-0.704533</td>\n",
              "      <td>0.264364</td>\n",
              "      <td>0.841750</td>\n",
              "      <td>0.534007</td>\n",
              "      <td>0.014462</td>\n",
              "      <td>0.574385</td>\n",
              "      <td>0.361221</td>\n",
              "      <td>-0.004736</td>\n",
              "      <td>-0.497748</td>\n",
              "      <td>0.707079</td>\n",
              "      <td>0.817395</td>\n",
              "      <td>0.093863</td>\n",
              "      <td>0.143339</td>\n",
              "      <td>0.529586</td>\n",
              "      <td>-0.279411</td>\n",
              "      <td>0.025678</td>\n",
              "      <td>-0.216495</td>\n",
              "      <td>-0.354928</td>\n",
              "      <td>0.028003</td>\n",
              "      <td>-0.133779</td>\n",
              "      <td>0</td>\n",
              "      <td>22.0</td>\n",
              "      <td>-0.194360</td>\n",
              "    </tr>\n",
              "    <tr>\n",
              "      <th>4</th>\n",
              "      <td>-1.138878</td>\n",
              "      <td>0.168023</td>\n",
              "      <td>0.245738</td>\n",
              "      <td>-2.508623</td>\n",
              "      <td>0.515516</td>\n",
              "      <td>-0.448696</td>\n",
              "      <td>0.380618</td>\n",
              "      <td>0.376773</td>\n",
              "      <td>-1.847531</td>\n",
              "      <td>-0.435162</td>\n",
              "      <td>-0.355494</td>\n",
              "      <td>-0.618261</td>\n",
              "      <td>-0.414146</td>\n",
              "      <td>0.396362</td>\n",
              "      <td>-1.509958</td>\n",
              "      <td>1.434263</td>\n",
              "      <td>-0.240168</td>\n",
              "      <td>-0.836198</td>\n",
              "      <td>0.943929</td>\n",
              "      <td>0.086814</td>\n",
              "      <td>0.091308</td>\n",
              "      <td>-0.202967</td>\n",
              "      <td>-0.460213</td>\n",
              "      <td>-1.044427</td>\n",
              "      <td>0.985779</td>\n",
              "      <td>-0.196210</td>\n",
              "      <td>-0.169788</td>\n",
              "      <td>-0.100553</td>\n",
              "      <td>0</td>\n",
              "      <td>17.0</td>\n",
              "      <td>0.277438</td>\n",
              "    </tr>\n",
              "  </tbody>\n",
              "</table>\n",
              "</div>"
            ],
            "text/plain": [
              "         V1        V2        V3  ...  Class  scaled_time  scaled_Amount\n",
              "0 -1.012125  1.109470  1.191549  ...      0          9.0       0.302445\n",
              "1  1.448939  4.273507 -1.548240  ...      0         18.0      23.274660\n",
              "2  2.330645 -1.347129 -1.443562  ...      0         12.0      -0.027785\n",
              "3 -0.877970  1.107000  0.855221  ...      0         22.0      -0.194360\n",
              "4 -1.138878  0.168023  0.245738  ...      0         17.0       0.277438\n",
              "\n",
              "[5 rows x 31 columns]"
            ]
          },
          "metadata": {
            "tags": []
          },
          "execution_count": 8
        }
      ]
    },
    {
      "cell_type": "code",
      "metadata": {
        "id": "i0Fz_4DWb4Vq",
        "colab_type": "code",
        "colab": {}
      },
      "source": [
        "def performance_of_models(x, y, list_of_models):\n",
        "    results = [model_summary(model, x, y) for model in list_of_models]\n",
        "    results = pd.DataFrame(results)\n",
        "    return results"
      ],
      "execution_count": 0,
      "outputs": []
    },
    {
      "cell_type": "code",
      "metadata": {
        "id": "asyDwFxlbv04",
        "colab_type": "code",
        "colab": {}
      },
      "source": [
        "def model_summary(model, x, y):\n",
        "  \n",
        "  y_pred=model.predict(x)\n",
        "\n",
        "  cnf_matrix = confusion_matrix(y_test, y_pred)\n",
        "  precision=precision_score(y_test,y_pred)\n",
        "  accuracy=accuracy_score(y_test,y_pred)\n",
        "  recall=recall_score(y_test,y_pred)\n",
        "  f1=f1_score(y_test,y_pred)\n",
        "  auc=roc_auc_score(y_test, y_pred)\n",
        "  fpr, tpr, trashhold = roc_curve(y_test,  y_pred)\n",
        "\n",
        "  result = {'model': str(model),\n",
        "            'confusion matrix': cnf_matrix,\n",
        "            'precision': precision,\n",
        "            'accuracy': accuracy,\n",
        "            'recall': recall,\n",
        "            'f1 score': f1,\n",
        "            'auc': auc,\n",
        "            'fpr': fpr,\n",
        "            'tpr': tpr,\n",
        "            'trashhold': trashhold,\n",
        "               })\n",
        "\n",
        "  return result"
      ],
      "execution_count": 0,
      "outputs": []
    },
    {
      "cell_type": "code",
      "metadata": {
        "id": "AI9BxeQyu19J",
        "colab_type": "code",
        "colab": {}
      },
      "source": [
        "usmpl_LR = load('/content/usmpl_Log_Reg.pkl')\n",
        "usmpl_RF = load('/content/usmpl_Rand_forest.pkl')\n",
        "usmpl_XGB = load('/content/usmpl_XGBoost_.pkl')\n",
        "usmpl_eclf = load('/content/usmpl_eclf.pkl')\n",
        "osmpl_LR = load('/content/osmpl_Log_Reg.pkl')\n",
        "osmpl_RF = load('/content/osmpl_Rand_forest.pkl')\n",
        "osmpl_XGB = load('/content/osmpl_XGBoost_.pkl')\n",
        "osmpl_SVC = load('/content/osmpl_SVC_.pkl')"
      ],
      "execution_count": 0,
      "outputs": []
    },
    {
      "cell_type": "code",
      "metadata": {
        "id": "gt3BOA1J4Lf0",
        "colab_type": "code",
        "colab": {}
      },
      "source": [
        ""
      ],
      "execution_count": 0,
      "outputs": []
    },
    {
      "cell_type": "code",
      "metadata": {
        "id": "PW4TgdVUy7fu",
        "colab_type": "code",
        "colab": {}
      },
      "source": [
        "# plt.plot(a.iloc[0,7],a.iloc[0,8],label=\"Logistic Regresion, auc=\"+str(a.iloc[0,6]))\n",
        "# plt.plot(a.iloc[1,7],a.iloc[1,8],label=\"Random Forest, auc=\"+str(a.iloc[1,6]))\n",
        "# plt.plot(a.iloc[2,7],a.iloc[2,8],label=\"KNeig, auc=\"+str(a.iloc[2,6]))\n",
        "# plt.plot(a.iloc[3,7],a.iloc[3,8],label=\"XGBoost, auc=\"+str(a.iloc[3,6]))\n",
        "# plt.plot(a.iloc[4,7],a.iloc[4,8],label=\"SVC, auc=\"+str(a.iloc[4,6]))\n",
        "# plt.plot(a.iloc[5,7],a.iloc[5,8],label=\"Ensemble, auc=\"+str(a.iloc[5,6]))\n",
        "# plt.xlabel('FPR')\n",
        "# plt.ylabel('TPR')\n",
        "# plt.legend(loc=4)\n",
        "# plt.show()"
      ],
      "execution_count": 0,
      "outputs": []
    },
    {
      "cell_type": "markdown",
      "metadata": {
        "id": "MDVUJapIlXIR",
        "colab_type": "text"
      },
      "source": [
        "About optimizer\n",
        "https://scikit-optimize.github.io/?fbclid=IwAR3m_0Um5EQ2v64DfXeSHmRPA8jBTu6inXHe8dFhOHMUDHBid-NpiH_8TH8"
      ]
    }
  ]
}