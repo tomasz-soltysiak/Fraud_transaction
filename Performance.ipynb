{
  "nbformat": 4,
  "nbformat_minor": 0,
  "metadata": {
    "colab": {
      "name": "Untitled",
      "provenance": [],
      "include_colab_link": true
    },
    "kernelspec": {
      "name": "python3",
      "display_name": "Python 3"
    }
  },
  "cells": [
    {
      "cell_type": "markdown",
      "metadata": {
        "id": "view-in-github",
        "colab_type": "text"
      },
      "source": [
        "<a href=\"https://colab.research.google.com/github/tomasz-soltysiak/Fraud_transaction/blob/master/Performance.ipynb\" target=\"_parent\"><img src=\"https://colab.research.google.com/assets/colab-badge.svg\" alt=\"Open In Colab\"/></a>"
      ]
    },
    {
      "cell_type": "code",
      "metadata": {
        "id": "pb0Uu15jdayw",
        "colab_type": "code",
        "outputId": "e2e4fc14-427d-4e37-aa06-0636670b4dac",
        "colab": {
          "base_uri": "https://localhost:8080/",
          "height": 34
        }
      },
      "source": [
        "import pandas as pd\n",
        "import numpy as np\n",
        "import matplotlib.pyplot as plt\n",
        "from sklearn.metrics import recall_score, precision_score, f1_score, accuracy_score,roc_curve,confusion_matrix,roc_auc_score\n",
        "from sklearn.linear_model import LogisticRegression\n",
        "from sklearn.cluster import KMeans\n",
        "from sklearn.ensemble import RandomForestClassifier\n",
        "from sklearn.neighbors import KNeighborsClassifier\n",
        "from sklearn.svm import SVC\n",
        "from sklearn.model_selection import GridSearchCV\n",
        "from xgboost import XGBClassifier\n",
        "from mlxtend.classifier import EnsembleVoteClassifier\n",
        "from sklearn.preprocessing import StandardScaler\n",
        "from sklearn.preprocessing import RobustScaler\n",
        "! pip install joblib\n",
        "from joblib import dump, load"
      ],
      "execution_count": 18,
      "outputs": [
        {
          "output_type": "stream",
          "text": [
            "Requirement already satisfied: joblib in /usr/local/lib/python3.6/dist-packages (0.14.0)\n"
          ],
          "name": "stdout"
        }
      ]
    },
    {
      "cell_type": "code",
      "metadata": {
        "id": "EkQlPPr3qdDo",
        "colab_type": "code",
        "outputId": "19456100-9c51-4b11-9b05-12164401f076",
        "colab": {
          "base_uri": "https://localhost:8080/",
          "height": 122
        }
      },
      "source": [
        "from google.colab import drive\n",
        "drive.mount('/content/drive')"
      ],
      "execution_count": 3,
      "outputs": [
        {
          "output_type": "stream",
          "text": [
            "Go to this URL in a browser: https://accounts.google.com/o/oauth2/auth?client_id=947318989803-6bn6qk8qdgf4n4g3pfee6491hc0brc4i.apps.googleusercontent.com&redirect_uri=urn%3aietf%3awg%3aoauth%3a2.0%3aoob&response_type=code&scope=email%20https%3a%2f%2fwww.googleapis.com%2fauth%2fdocs.test%20https%3a%2f%2fwww.googleapis.com%2fauth%2fdrive%20https%3a%2f%2fwww.googleapis.com%2fauth%2fdrive.photos.readonly%20https%3a%2f%2fwww.googleapis.com%2fauth%2fpeopleapi.readonly\n",
            "\n",
            "Enter your authorization code:\n",
            "··········\n",
            "Mounted at /content/drive\n"
          ],
          "name": "stdout"
        }
      ]
    },
    {
      "cell_type": "code",
      "metadata": {
        "id": "NtRr7q_lqY2p",
        "colab_type": "code",
        "colab": {}
      },
      "source": [
        "df = pd.read_csv('/content/drive/My Drive/Data Science/ML fraud detection/test.csv')\n",
        "df['scaled_time']=round((df['Time']/3600)%24)\n",
        "Rob_scaler = RobustScaler()\n",
        "df['scaled_Amount']=Rob_scaler.fit_transform(df['Amount'].values.reshape(-1,1))\n",
        "df = df.drop(['Time','Amount'],axis=1)\n",
        "X_test = df.drop(columns=['Class'])\n",
        "y_test = df['Class']"
      ],
      "execution_count": 0,
      "outputs": []
    },
    {
      "cell_type": "code",
      "metadata": {
        "id": "i0Fz_4DWb4Vq",
        "colab_type": "code",
        "colab": {}
      },
      "source": [
        "def performance_of_models(x, y, list_of_models):\n",
        "    results = [model_summary(model, x, y) for model in list_of_models]\n",
        "    results = pd.DataFrame(results)\n",
        "    return results"
      ],
      "execution_count": 0,
      "outputs": []
    },
    {
      "cell_type": "code",
      "metadata": {
        "id": "asyDwFxlbv04",
        "colab_type": "code",
        "colab": {}
      },
      "source": [
        "def model_summary(model, X_test, y_test):\n",
        "  \n",
        "  y_pred=model.predict(X_test)\n",
        "\n",
        "  cnf_matrix = confusion_matrix(y_test, y_pred)\n",
        "  precision=precision_score(y_test,y_pred)\n",
        "  accuracy=accuracy_score(y_test,y_pred)\n",
        "  recall=recall_score(y_test,y_pred)\n",
        "  f1=f1_score(y_test,y_pred)\n",
        "  auc=roc_auc_score(y_test, y_pred)\n",
        "  fpr, tpr, trashhold = roc_curve(y_test,  y_pred)\n",
        "\n",
        "  result = {'model': str(model),\n",
        "            'confusion matrix': cnf_matrix,\n",
        "            'precision': precision,\n",
        "            'accuracy': accuracy,\n",
        "            'recall': recall,\n",
        "            'f1 score': f1,\n",
        "            'auc': auc,\n",
        "            'fpr': fpr,\n",
        "            'tpr': tpr,\n",
        "            'trashhold': trashhold,\n",
        "               }\n",
        "\n",
        "  return result"
      ],
      "execution_count": 0,
      "outputs": []
    },
    {
      "cell_type": "code",
      "metadata": {
        "id": "AI9BxeQyu19J",
        "colab_type": "code",
        "colab": {}
      },
      "source": [
        "usmpl_LR = load('/content/usmpl_Log_Reg.pkl')\n",
        "usmpl_RF = load('/content/usmpl_Rand_forest.pkl')\n",
        "usmpl_XGB = load('/content/usmpl_XGBoost_.pkl')\n",
        "# usmpl_eclf = load('/content/usmpl_eclf.pkl')\n",
        "osmpl_LR = load('/content/osmpl_Log_Reg.pkl')\n",
        "osmpl_RF = load('/content/osmpl_Rand_forest.pkl')\n",
        "osmpl_XGB = load('/content/osmpl_XGBoost_.pkl')\n",
        "osmpl_SVC = load('/content/osmpl_SVC_.pkl')\n",
        "# osmpl_eclf = load('/content/osmpl_eclf.pkl')\n",
        "SMOTE_LR = load('/content/SMOTE_Log_Reg.pkl')\n",
        "SMOTE_RF = load('/content/SMOTE_Rand_forest.pkl')\n",
        "SMOTE_XGB = load('/content/SMOTE_XGBoost_.pkl')\n",
        "SMOTE_SVC = load('/content/SMOTE_SVC_.pkl')\n",
        "# SMOTE_eclf = load('/content/SMOTE_eclf.pkl')"
      ],
      "execution_count": 0,
      "outputs": []
    },
    {
      "cell_type": "code",
      "metadata": {
        "id": "gt3BOA1J4Lf0",
        "colab_type": "code",
        "colab": {
          "base_uri": "https://localhost:8080/",
          "height": 801
        },
        "outputId": "2234a69d-5140-4dce-f339-cbd2c39ea413"
      },
      "source": [
        "list_of_models = [usmpl_LR,\n",
        "usmpl_RF,\n",
        "usmpl_XGB,\n",
        "osmpl_LR, \n",
        "osmpl_RF,\n",
        "osmpl_XGB,\n",
        "osmpl_SVC,\n",
        "SMOTE_LR,\n",
        "SMOTE_RF,\n",
        "SMOTE_XGB,\n",
        "SMOTE_SVC,]\n",
        "a = performance_of_models(X_test, y_test, list_of_models)\n",
        "a"
      ],
      "execution_count": 16,
      "outputs": [
        {
          "output_type": "execute_result",
          "data": {
            "text/html": [
              "<div>\n",
              "<style scoped>\n",
              "    .dataframe tbody tr th:only-of-type {\n",
              "        vertical-align: middle;\n",
              "    }\n",
              "\n",
              "    .dataframe tbody tr th {\n",
              "        vertical-align: top;\n",
              "    }\n",
              "\n",
              "    .dataframe thead th {\n",
              "        text-align: right;\n",
              "    }\n",
              "</style>\n",
              "<table border=\"1\" class=\"dataframe\">\n",
              "  <thead>\n",
              "    <tr style=\"text-align: right;\">\n",
              "      <th></th>\n",
              "      <th>model</th>\n",
              "      <th>confusion matrix</th>\n",
              "      <th>precision</th>\n",
              "      <th>accuracy</th>\n",
              "      <th>recall</th>\n",
              "      <th>f1 score</th>\n",
              "      <th>auc</th>\n",
              "      <th>fpr</th>\n",
              "      <th>tpr</th>\n",
              "      <th>trashhold</th>\n",
              "    </tr>\n",
              "  </thead>\n",
              "  <tbody>\n",
              "    <tr>\n",
              "      <th>0</th>\n",
              "      <td>GridSearchCV(cv='warn', error_score='raise-dep...</td>\n",
              "      <td>[[1170, 69909], [0, 123]]</td>\n",
              "      <td>0.001756</td>\n",
              "      <td>0.018160</td>\n",
              "      <td>1.0</td>\n",
              "      <td>0.003507</td>\n",
              "      <td>0.508230</td>\n",
              "      <td>[0.0, 0.9835394420292913, 1.0]</td>\n",
              "      <td>[0.0, 1.0, 1.0]</td>\n",
              "      <td>[2, 1, 0]</td>\n",
              "    </tr>\n",
              "    <tr>\n",
              "      <th>1</th>\n",
              "      <td>GridSearchCV(cv='warn', error_score='raise-dep...</td>\n",
              "      <td>[[1485, 69594], [0, 123]]</td>\n",
              "      <td>0.001764</td>\n",
              "      <td>0.022584</td>\n",
              "      <td>1.0</td>\n",
              "      <td>0.003522</td>\n",
              "      <td>0.510446</td>\n",
              "      <td>[0.0, 0.9791077533448698, 1.0]</td>\n",
              "      <td>[0.0, 1.0, 1.0]</td>\n",
              "      <td>[2, 1, 0]</td>\n",
              "    </tr>\n",
              "    <tr>\n",
              "      <th>2</th>\n",
              "      <td>GridSearchCV(cv='warn', error_score='raise-dep...</td>\n",
              "      <td>[[1170, 69909], [0, 123]]</td>\n",
              "      <td>0.001756</td>\n",
              "      <td>0.018160</td>\n",
              "      <td>1.0</td>\n",
              "      <td>0.003507</td>\n",
              "      <td>0.508230</td>\n",
              "      <td>[0.0, 0.9835394420292913, 1.0]</td>\n",
              "      <td>[0.0, 1.0, 1.0]</td>\n",
              "      <td>[2, 1, 0]</td>\n",
              "    </tr>\n",
              "    <tr>\n",
              "      <th>3</th>\n",
              "      <td>GridSearchCV(cv='warn', error_score='raise-dep...</td>\n",
              "      <td>[[1170, 69909], [0, 123]]</td>\n",
              "      <td>0.001756</td>\n",
              "      <td>0.018160</td>\n",
              "      <td>1.0</td>\n",
              "      <td>0.003507</td>\n",
              "      <td>0.508230</td>\n",
              "      <td>[0.0, 0.9835394420292913, 1.0]</td>\n",
              "      <td>[0.0, 1.0, 1.0]</td>\n",
              "      <td>[2, 1, 0]</td>\n",
              "    </tr>\n",
              "    <tr>\n",
              "      <th>4</th>\n",
              "      <td>GridSearchCV(cv='warn', error_score='raise-dep...</td>\n",
              "      <td>[[1170, 69909], [0, 123]]</td>\n",
              "      <td>0.001756</td>\n",
              "      <td>0.018160</td>\n",
              "      <td>1.0</td>\n",
              "      <td>0.003507</td>\n",
              "      <td>0.508230</td>\n",
              "      <td>[0.0, 0.9835394420292913, 1.0]</td>\n",
              "      <td>[0.0, 1.0, 1.0]</td>\n",
              "      <td>[2, 1, 0]</td>\n",
              "    </tr>\n",
              "    <tr>\n",
              "      <th>5</th>\n",
              "      <td>GridSearchCV(cv='warn', error_score='raise-dep...</td>\n",
              "      <td>[[1170, 69909], [0, 123]]</td>\n",
              "      <td>0.001756</td>\n",
              "      <td>0.018160</td>\n",
              "      <td>1.0</td>\n",
              "      <td>0.003507</td>\n",
              "      <td>0.508230</td>\n",
              "      <td>[0.0, 0.9835394420292913, 1.0]</td>\n",
              "      <td>[0.0, 1.0, 1.0]</td>\n",
              "      <td>[2, 1, 0]</td>\n",
              "    </tr>\n",
              "    <tr>\n",
              "      <th>6</th>\n",
              "      <td>GridSearchCV(cv='warn', error_score='raise-dep...</td>\n",
              "      <td>[[416, 70663], [0, 123]]</td>\n",
              "      <td>0.001738</td>\n",
              "      <td>0.007570</td>\n",
              "      <td>1.0</td>\n",
              "      <td>0.003469</td>\n",
              "      <td>0.502926</td>\n",
              "      <td>[0.0, 0.9941473571659702, 1.0]</td>\n",
              "      <td>[0.0, 1.0, 1.0]</td>\n",
              "      <td>[2, 1, 0]</td>\n",
              "    </tr>\n",
              "    <tr>\n",
              "      <th>7</th>\n",
              "      <td>GridSearchCV(cv='warn', error_score='raise-dep...</td>\n",
              "      <td>[[1170, 69909], [0, 123]]</td>\n",
              "      <td>0.001756</td>\n",
              "      <td>0.018160</td>\n",
              "      <td>1.0</td>\n",
              "      <td>0.003507</td>\n",
              "      <td>0.508230</td>\n",
              "      <td>[0.0, 0.9835394420292913, 1.0]</td>\n",
              "      <td>[0.0, 1.0, 1.0]</td>\n",
              "      <td>[2, 1, 0]</td>\n",
              "    </tr>\n",
              "    <tr>\n",
              "      <th>8</th>\n",
              "      <td>GridSearchCV(cv='warn', error_score='raise-dep...</td>\n",
              "      <td>[[1213, 69866], [0, 123]]</td>\n",
              "      <td>0.001757</td>\n",
              "      <td>0.018764</td>\n",
              "      <td>1.0</td>\n",
              "      <td>0.003509</td>\n",
              "      <td>0.508533</td>\n",
              "      <td>[0.0, 0.9829344813517354, 1.0]</td>\n",
              "      <td>[0.0, 1.0, 1.0]</td>\n",
              "      <td>[2, 1, 0]</td>\n",
              "    </tr>\n",
              "    <tr>\n",
              "      <th>9</th>\n",
              "      <td>GridSearchCV(cv='warn', error_score='raise-dep...</td>\n",
              "      <td>[[1170, 69909], [0, 123]]</td>\n",
              "      <td>0.001756</td>\n",
              "      <td>0.018160</td>\n",
              "      <td>1.0</td>\n",
              "      <td>0.003507</td>\n",
              "      <td>0.508230</td>\n",
              "      <td>[0.0, 0.9835394420292913, 1.0]</td>\n",
              "      <td>[0.0, 1.0, 1.0]</td>\n",
              "      <td>[2, 1, 0]</td>\n",
              "    </tr>\n",
              "    <tr>\n",
              "      <th>10</th>\n",
              "      <td>GridSearchCV(cv='warn', error_score='raise-dep...</td>\n",
              "      <td>[[224, 70855], [0, 123]]</td>\n",
              "      <td>0.001733</td>\n",
              "      <td>0.004873</td>\n",
              "      <td>1.0</td>\n",
              "      <td>0.003460</td>\n",
              "      <td>0.501576</td>\n",
              "      <td>[0.0, 0.9968485769355224, 1.0]</td>\n",
              "      <td>[0.0, 1.0, 1.0]</td>\n",
              "      <td>[2, 1, 0]</td>\n",
              "    </tr>\n",
              "  </tbody>\n",
              "</table>\n",
              "</div>"
            ],
            "text/plain": [
              "                                                model  ...  trashhold\n",
              "0   GridSearchCV(cv='warn', error_score='raise-dep...  ...  [2, 1, 0]\n",
              "1   GridSearchCV(cv='warn', error_score='raise-dep...  ...  [2, 1, 0]\n",
              "2   GridSearchCV(cv='warn', error_score='raise-dep...  ...  [2, 1, 0]\n",
              "3   GridSearchCV(cv='warn', error_score='raise-dep...  ...  [2, 1, 0]\n",
              "4   GridSearchCV(cv='warn', error_score='raise-dep...  ...  [2, 1, 0]\n",
              "5   GridSearchCV(cv='warn', error_score='raise-dep...  ...  [2, 1, 0]\n",
              "6   GridSearchCV(cv='warn', error_score='raise-dep...  ...  [2, 1, 0]\n",
              "7   GridSearchCV(cv='warn', error_score='raise-dep...  ...  [2, 1, 0]\n",
              "8   GridSearchCV(cv='warn', error_score='raise-dep...  ...  [2, 1, 0]\n",
              "9   GridSearchCV(cv='warn', error_score='raise-dep...  ...  [2, 1, 0]\n",
              "10  GridSearchCV(cv='warn', error_score='raise-dep...  ...  [2, 1, 0]\n",
              "\n",
              "[11 rows x 10 columns]"
            ]
          },
          "metadata": {
            "tags": []
          },
          "execution_count": 16
        }
      ]
    },
    {
      "cell_type": "code",
      "metadata": {
        "id": "PW4TgdVUy7fu",
        "colab_type": "code",
        "colab": {
          "base_uri": "https://localhost:8080/",
          "height": 316
        },
        "outputId": "5b57ce11-6332-4de2-dae9-040cc919d029"
      },
      "source": [
        "plt.plot(a.iloc[0,7],a.iloc[0,8],label=\"usmp_LR, auc=\"+str(a.iloc[0,6]))\n",
        "plt.plot(a.iloc[1,7],a.iloc[1,8],label=\"usmpl_RF, auc=\"+str(a.iloc[1,6]))\n",
        "plt.plot(a.iloc[2,7],a.iloc[2,8],label=\"usmpl_XGB, auc=\"+str(a.iloc[2,6]))\n",
        "plt.plot(a.iloc[3,7],a.iloc[3,8],label=\"osmpl_LR, auc=\"+str(a.iloc[3,6]))\n",
        "plt.plot(a.iloc[4,7],a.iloc[4,8],label=\"osmpl_RF, auc=\"+str(a.iloc[4,6]))\n",
        "plt.plot(a.iloc[5,7],a.iloc[5,8],label=\"osmpl_XGB, auc=\"+str(a.iloc[5,6]))\n",
        "plt.plot(a.iloc[6,7],a.iloc[6,8],label=\"osmpl_SVC, auc=\"+str(a.iloc[6,6]))\n",
        "plt.plot(a.iloc[7,7],a.iloc[7,8],label=\"SMOTE_LR, auc=\"+str(a.iloc[7,6]))\n",
        "plt.plot(a.iloc[8,7],a.iloc[8,8],label=\"SMOTE_RF, auc=\"+str(a.iloc[8,6]))\n",
        "plt.plot(a.iloc[9,7],a.iloc[9,8],label=\"SMOTE_XGB, auc=\"+str(a.iloc[9,6]))\n",
        "plt.plot(a.iloc[10,7],a.iloc[10,8],label=\"SMOTE_SVC, auc=\"+str(a.iloc[10,6]))\n",
        "# plt.plot(a.iloc[11,7],a.iloc[11,8],label=\"Ensemble, auc=\"+str(a.iloc[11,6]))\n",
        "plt.xlabel('FPR')\n",
        "plt.ylabel('TPR')\n",
        "plt.legend(loc=4)\n",
        "plt.show()\n",
        "\"\"\"[usmpl_LR,\n",
        "usmpl_RF,\n",
        "usmpl_XGB,\n",
        "osmpl_LR, \n",
        "osmpl_RF,\n",
        "osmpl_XGB,\n",
        "osmpl_SVC,\n",
        "SMOTE_LR,\n",
        "SMOTE_RF,\n",
        "SMOTE_XGB,\n",
        "SMOTE_SVC,]\"\"\""
      ],
      "execution_count": 20,
      "outputs": [
        {
          "output_type": "display_data",
          "data": {
            "image/png": "[encoded data removed]",
            "text/plain": [
              "<Figure size 432x288 with 1 Axes>"
            ]
          },
          "metadata": {
            "tags": []
          }
        },
        {
          "output_type": "execute_result",
          "data": {
            "text/plain": [
              "'[usmpl_LR,\\nusmpl_RF,\\nusmpl_XGB,\\nosmpl_LR, \\nosmpl_RF,\\nosmpl_XGB,\\nosmpl_SVC,\\nSMOTE_LR,\\nSMOTE_RF,\\nSMOTE_XGB,\\nSMOTE_SVC,]'"
            ]
          },
          "metadata": {
            "tags": []
          },
          "execution_count": 20
        }
      ]
    },
    {
      "cell_type": "markdown",
      "metadata": {
        "id": "MDVUJapIlXIR",
        "colab_type": "text"
      },
      "source": [
        "About optimizer\n",
        "https://scikit-optimize.github.io/?fbclid=IwAR3m_0Um5EQ2v64DfXeSHmRPA8jBTu6inXHe8dFhOHMUDHBid-NpiH_8TH8"
      ]
    }
  ]
}